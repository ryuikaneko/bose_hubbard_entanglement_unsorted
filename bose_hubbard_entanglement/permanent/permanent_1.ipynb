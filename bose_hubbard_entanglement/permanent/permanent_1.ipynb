{
 "cells": [
  {
   "cell_type": "code",
   "execution_count": 1,
   "id": "d4edc6ae-6146-493c-a895-c70388a21a8b",
   "metadata": {},
   "outputs": [],
   "source": [
    "# https://github.com/scipy/scipy/issues/7151\n",
    "# https://apps.dtic.mil/sti/pdfs/AD1004183.pdf\n",
    "# https://www.codeproject.com/Articles/21282/Compute-Permanent-of-a-Matrix-with-Ryser-s-Algorit\n",
    "\n",
    "# https://rosettacode.org/wiki/Determinant_and_permanent\n",
    "# https://codegolf.stackexchange.com/questions/97060/calculate-the-permanent-as-quickly-as-possible\n",
    "\n",
    "# https://stackoverflow.com/questions/38738835/generating-gray-codes\n",
    "# https://qiita.com/b1ueskydragon/items/75cfee42541ea723080c\n",
    "\n",
    "# https://qiita.com/phdax/items/3064de264c7933bab2f5\n",
    "# https://web.archive.org/web/20190108235115/https://www.hackersdelight.org/hdcodetxt/pop.c.txt\n",
    "# http://graphics.stanford.edu/~seander/bithacks.html#CountBitsSetParallel\n",
    "# https://stackoverflow.com/questions/9829578/fast-way-of-counting-non-zero-bits-in-positive-integer\n",
    "\n",
    "# https://stackoverflow.com/questions/22227595/convert-integer-to-binary-array-with-suitable-padding"
   ]
  },
  {
   "cell_type": "code",
   "execution_count": 2,
   "id": "aba8b382-bff8-4dcd-9695-ebdcfb249ad4",
   "metadata": {},
   "outputs": [],
   "source": [
    "import numpy as np\n",
    "\n",
    "from itertools import permutations\n",
    "from operator import mul\n",
    "from math import fsum\n",
    "from functools import reduce"
   ]
  },
  {
   "cell_type": "code",
   "execution_count": 3,
   "id": "5463fd7b-f7f3-45b1-9c3f-1a09b02c45a5",
   "metadata": {},
   "outputs": [
    {
     "name": "stdout",
     "output_type": "stream",
     "text": [
      "   0 00000    0\n",
      "   1 00001    1\n",
      "   2 00011    3\n",
      "   3 00010    2\n",
      "   4 00110    6\n",
      "   5 00111    7\n",
      "   6 00101    5\n",
      "   7 00100    4\n",
      "   8 01100   12\n",
      "   9 01101   13\n",
      "  10 01111   15\n",
      "  11 01110   14\n",
      "  12 01010   10\n",
      "  13 01011   11\n",
      "  14 01001    9\n",
      "  15 01000    8\n",
      "  16 11000   24\n",
      "  17 11001   25\n",
      "  18 11011   27\n",
      "  19 11010   26\n",
      "  20 11110   30\n",
      "  21 11111   31\n",
      "  22 11101   29\n",
      "  23 11100   28\n",
      "  24 10100   20\n",
      "  25 10101   21\n",
      "  26 10111   23\n",
      "  27 10110   22\n",
      "  28 10010   18\n",
      "  29 10011   19\n",
      "  30 10001   17\n",
      "  31 10000   16\n"
     ]
    }
   ],
   "source": [
    "n = 5\n",
    "for i in range(0, 1<<n):\n",
    "    gray = i^(i>>1)\n",
    "    print(\"{:4d}\".format(i),\"{0:0{1}b}\".format(gray,n),\"{:4d}\".format(gray))"
   ]
  },
  {
   "cell_type": "code",
   "execution_count": 4,
   "id": "b829d098-9bc5-47f9-9cc1-612fd3e5a8f3",
   "metadata": {},
   "outputs": [],
   "source": [
    "def count_bits(bit):\n",
    "    count = bit\n",
    "## 32 bits\n",
    "#    count = (count & 0x55555555) + ((count >> 1) & 0x55555555)\n",
    "#    count = (count & 0x33333333) + ((count >> 2) & 0x33333333)\n",
    "#    count = (count & 0x0F0F0F0F) + ((count >> 4) & 0x0F0F0F0F)\n",
    "#    count = (count & 0x00FF00FF) + ((count >> 8) & 0x00FF00FF)\n",
    "#    count = (count & 0x0000FFFF) + ((count >>16) & 0x0000FFFF)\n",
    "## 64 bits\n",
    "    count = (count & 0x5555555555555555) + ((count & 0xAAAAAAAAAAAAAAAA) >> 1)\n",
    "    count = (count & 0x3333333333333333) + ((count & 0xCCCCCCCCCCCCCCCC) >> 2)\n",
    "    count = (count & 0x0F0F0F0F0F0F0F0F) + ((count & 0xF0F0F0F0F0F0F0F0) >> 4)\n",
    "    count = (count & 0x00FF00FF00FF00FF) + ((count & 0xFF00FF00FF00FF00) >> 8)\n",
    "    count = (count & 0x0000FFFF0000FFFF) + ((count & 0xFFFF0000FFFF0000) >> 16)\n",
    "    count = (count & 0x00000000FFFFFFFF) + ((count & 0xFFFFFFFF00000000) >> 32)\n",
    "    return count"
   ]
  },
  {
   "cell_type": "code",
   "execution_count": 5,
   "id": "a6f26269-6dfa-4cce-b972-926a2b40c53d",
   "metadata": {},
   "outputs": [],
   "source": [
    "def gray_code(i,n):\n",
    "    gray = i^(i>>1)\n",
    "    bit_gray = np.array(list(np.binary_repr(gray).zfill(n))+[count_bits(gray)]).astype(np.int64)\n",
    "    return gray, count_bits(gray), bit_gray"
   ]
  },
  {
   "cell_type": "code",
   "execution_count": 6,
   "id": "f31f73c9-2ea2-4b34-98f3-0f07b0aeb72f",
   "metadata": {},
   "outputs": [
    {
     "name": "stdout",
     "output_type": "stream",
     "text": [
      "   0 00000    0 0 [0 0 0 0 0 0]\n",
      "   1 00001    1 1 [0 0 0 0 1 1]\n",
      "   2 00011    3 2 [0 0 0 1 1 2]\n",
      "   3 00010    2 1 [0 0 0 1 0 1]\n",
      "   4 00110    6 2 [0 0 1 1 0 2]\n",
      "   5 00111    7 3 [0 0 1 1 1 3]\n",
      "   6 00101    5 2 [0 0 1 0 1 2]\n",
      "   7 00100    4 1 [0 0 1 0 0 1]\n",
      "   8 01100   12 2 [0 1 1 0 0 2]\n",
      "   9 01101   13 3 [0 1 1 0 1 3]\n",
      "  10 01111   15 4 [0 1 1 1 1 4]\n",
      "  11 01110   14 3 [0 1 1 1 0 3]\n",
      "  12 01010   10 2 [0 1 0 1 0 2]\n",
      "  13 01011   11 3 [0 1 0 1 1 3]\n",
      "  14 01001    9 2 [0 1 0 0 1 2]\n",
      "  15 01000    8 1 [0 1 0 0 0 1]\n",
      "  16 11000   24 2 [1 1 0 0 0 2]\n",
      "  17 11001   25 3 [1 1 0 0 1 3]\n",
      "  18 11011   27 4 [1 1 0 1 1 4]\n",
      "  19 11010   26 3 [1 1 0 1 0 3]\n",
      "  20 11110   30 4 [1 1 1 1 0 4]\n",
      "  21 11111   31 5 [1 1 1 1 1 5]\n",
      "  22 11101   29 4 [1 1 1 0 1 4]\n",
      "  23 11100   28 3 [1 1 1 0 0 3]\n",
      "  24 10100   20 2 [1 0 1 0 0 2]\n",
      "  25 10101   21 3 [1 0 1 0 1 3]\n",
      "  26 10111   23 4 [1 0 1 1 1 4]\n",
      "  27 10110   22 3 [1 0 1 1 0 3]\n",
      "  28 10010   18 2 [1 0 0 1 0 2]\n",
      "  29 10011   19 3 [1 0 0 1 1 3]\n",
      "  30 10001   17 2 [1 0 0 0 1 2]\n",
      "  31 10000   16 1 [1 0 0 0 0 1]\n"
     ]
    }
   ],
   "source": [
    "n = 5\n",
    "for i in range(0, 1<<n):\n",
    "    gray, nbit, bit_gray = gray_code(i,n)\n",
    "    print(\"{:4d}\".format(i),\"{0:0{1}b}\".format(gray,n),\"{:4d}\".format(gray),nbit,bit_gray)"
   ]
  },
  {
   "cell_type": "code",
   "execution_count": 7,
   "id": "b5fec16b-fdbf-4e48-9e23-b21900637a96",
   "metadata": {},
   "outputs": [],
   "source": [
    "def slow_gray_code(n,dim):\n",
    "    res = np.zeros(dim+1,dtype=np.int64)\n",
    "    pos = dim - 1\n",
    "    while n>0:\n",
    "        res[pos] = n%2\n",
    "        res[dim] += res[pos]\n",
    "        n = n//2\n",
    "        pos = pos-1\n",
    "    return res"
   ]
  },
  {
   "cell_type": "code",
   "execution_count": 8,
   "id": "f99cc6cc-99c9-447c-b087-cf93f349577b",
   "metadata": {},
   "outputs": [
    {
     "name": "stdout",
     "output_type": "stream",
     "text": [
      "[0 0 0 0 0 0]\n",
      "[0 0 0 0 1 1]\n",
      "[0 0 0 1 0 1]\n",
      "[0 0 0 1 1 2]\n",
      "[0 0 1 0 0 1]\n",
      "[0 0 1 0 1 2]\n",
      "[0 0 1 1 0 2]\n",
      "[0 0 1 1 1 3]\n",
      "[0 1 0 0 0 1]\n",
      "[0 1 0 0 1 2]\n",
      "[0 1 0 1 0 2]\n",
      "[0 1 0 1 1 3]\n",
      "[0 1 1 0 0 2]\n",
      "[0 1 1 0 1 3]\n",
      "[0 1 1 1 0 3]\n",
      "[0 1 1 1 1 4]\n",
      "[1 0 0 0 0 1]\n",
      "[1 0 0 0 1 2]\n",
      "[1 0 0 1 0 2]\n",
      "[1 0 0 1 1 3]\n",
      "[1 0 1 0 0 2]\n",
      "[1 0 1 0 1 3]\n",
      "[1 0 1 1 0 3]\n",
      "[1 0 1 1 1 4]\n",
      "[1 1 0 0 0 2]\n",
      "[1 1 0 0 1 3]\n",
      "[1 1 0 1 0 3]\n",
      "[1 1 0 1 1 4]\n",
      "[1 1 1 0 0 3]\n",
      "[1 1 1 0 1 4]\n",
      "[1 1 1 1 0 4]\n",
      "[1 1 1 1 1 5]\n"
     ]
    }
   ],
   "source": [
    "n = 5\n",
    "for i in range(0, 1<<n):\n",
    "    gray = slow_gray_code(i,n)\n",
    "    print(gray)"
   ]
  },
  {
   "cell_type": "code",
   "execution_count": 9,
   "id": "4187de9b-d37c-413f-8f3e-dedccb3f76dd",
   "metadata": {},
   "outputs": [],
   "source": [
    "def fast_gray_code(i,n):\n",
    "    gray = i^(i>>1)\n",
    "    return np.array(list(np.binary_repr(gray).zfill(n))+[count_bits(gray)]).astype(np.int64)"
   ]
  },
  {
   "cell_type": "code",
   "execution_count": 10,
   "id": "deeec4d9-5929-4892-8dd9-5052750fb9ad",
   "metadata": {},
   "outputs": [],
   "source": [
    "def _gray_code(n):\n",
    "    if n == 0:\n",
    "        return [0]\n",
    "    if n == 1:\n",
    "        return [0, 1]\n",
    "    codes = _gray_code(n - 1)\n",
    "    for k in reversed(codes):\n",
    "        codes.append((1 << (n - 1)) + k)\n",
    "    return codes"
   ]
  },
  {
   "cell_type": "code",
   "execution_count": 11,
   "id": "821274a6-660d-4a74-aa15-3c5df45c7f22",
   "metadata": {},
   "outputs": [
    {
     "name": "stdout",
     "output_type": "stream",
     "text": [
      "[0, 1, 3, 2, 6, 7, 5, 4, 12, 13, 15, 14, 10, 11, 9, 8, 24, 25, 27, 26, 30, 31, 29, 28, 20, 21, 23, 22, 18, 19, 17, 16]\n"
     ]
    }
   ],
   "source": [
    "print(_gray_code(5))"
   ]
  },
  {
   "cell_type": "code",
   "execution_count": 12,
   "id": "5a7d26e4-c66d-4bb6-9061-93268e4fa45d",
   "metadata": {},
   "outputs": [
    {
     "name": "stdout",
     "output_type": "stream",
     "text": [
      "[0 0 0 0 0 0] [0 0 0 0 0 0]\n",
      "[0 0 0 0 1 1] [0 0 0 0 1 1]\n",
      "[0 0 0 1 0 1] [0 0 0 1 1 2]\n",
      "[0 0 0 1 1 2] [0 0 0 1 0 1]\n",
      "[0 0 1 0 0 1] [0 0 1 1 0 2]\n",
      "[0 0 1 0 1 2] [0 0 1 1 1 3]\n",
      "[0 0 1 1 0 2] [0 0 1 0 1 2]\n",
      "[0 0 1 1 1 3] [0 0 1 0 0 1]\n",
      "[0 1 0 0 0 1] [0 1 1 0 0 2]\n",
      "[0 1 0 0 1 2] [0 1 1 0 1 3]\n",
      "[0 1 0 1 0 2] [0 1 1 1 1 4]\n",
      "[0 1 0 1 1 3] [0 1 1 1 0 3]\n",
      "[0 1 1 0 0 2] [0 1 0 1 0 2]\n",
      "[0 1 1 0 1 3] [0 1 0 1 1 3]\n",
      "[0 1 1 1 0 3] [0 1 0 0 1 2]\n",
      "[0 1 1 1 1 4] [0 1 0 0 0 1]\n",
      "[1 0 0 0 0 1] [1 1 0 0 0 2]\n",
      "[1 0 0 0 1 2] [1 1 0 0 1 3]\n",
      "[1 0 0 1 0 2] [1 1 0 1 1 4]\n",
      "[1 0 0 1 1 3] [1 1 0 1 0 3]\n",
      "[1 0 1 0 0 2] [1 1 1 1 0 4]\n",
      "[1 0 1 0 1 3] [1 1 1 1 1 5]\n",
      "[1 0 1 1 0 3] [1 1 1 0 1 4]\n",
      "[1 0 1 1 1 4] [1 1 1 0 0 3]\n",
      "[1 1 0 0 0 2] [1 0 1 0 0 2]\n",
      "[1 1 0 0 1 3] [1 0 1 0 1 3]\n",
      "[1 1 0 1 0 3] [1 0 1 1 1 4]\n",
      "[1 1 0 1 1 4] [1 0 1 1 0 3]\n",
      "[1 1 1 0 0 3] [1 0 0 1 0 2]\n",
      "[1 1 1 0 1 4] [1 0 0 1 1 3]\n",
      "[1 1 1 1 0 4] [1 0 0 0 1 2]\n",
      "[1 1 1 1 1 5] [1 0 0 0 0 1]\n"
     ]
    }
   ],
   "source": [
    "n = 5\n",
    "for i in range(0, 1<<n):\n",
    "    print(slow_gray_code(i,n),fast_gray_code(i,n))"
   ]
  },
  {
   "cell_type": "code",
   "execution_count": 13,
   "id": "c642f1ca-7f0a-4d40-b63c-3638d3089eed",
   "metadata": {},
   "outputs": [],
   "source": [
    "def calc_perm_slow(A,n):\n",
    "    sum = 0\n",
    "    rowsumprod = 0\n",
    "    rowsum = 0\n",
    "    chi = np.zeros(n+1,dtype=np.int64)\n",
    "    C = 2**n\n",
    "    for k in range(1,C):\n",
    "        rowsumprod = 1\n",
    "        chi = slow_gray_code(k,n)\n",
    "        for m in range(n):\n",
    "            rowsum = 0\n",
    "            for p in range(n):\n",
    "                #rowsum += chi[p] * A[m * n + p]\n",
    "                rowsum += chi[p] * A[m,p]\n",
    "            rowsumprod *= rowsum\n",
    "        sum += (-1)**(n-chi[n]) * rowsumprod\n",
    "    return sum"
   ]
  },
  {
   "cell_type": "code",
   "execution_count": 14,
   "id": "f7cb8bb3-35d2-47c6-bc3d-6b5674bd580b",
   "metadata": {},
   "outputs": [],
   "source": [
    "def prod(lst):\n",
    "    return reduce(mul, lst, 1)\n",
    "\n",
    "def perm(a):\n",
    "    n = len(a)\n",
    "    r = range(n)\n",
    "    s = permutations(r)\n",
    "    return fsum(prod(a[i][sigma[i]] for i in r) for sigma in s)"
   ]
  },
  {
   "cell_type": "code",
   "execution_count": 15,
   "id": "3868d761-fcf9-4093-9e1c-22e756d29c61",
   "metadata": {},
   "outputs": [],
   "source": [
    "def npperm(M):\n",
    "    n = M.shape[0]\n",
    "    d = np.ones(n,dtype=np.float64)\n",
    "    j =  0\n",
    "    s = 1\n",
    "    f = np.arange(n)\n",
    "    v = M.sum(axis=0,dtype=np.float64)\n",
    "    p = np.prod(v)\n",
    "    while (j < n-1):\n",
    "        v -= 2.0*d[j]*M[j]\n",
    "        d[j] = -d[j]\n",
    "        s = -s\n",
    "        prod = np.prod(v)\n",
    "        p += s*prod\n",
    "        f[0] = 0\n",
    "        f[j] = f[j+1]\n",
    "        f[j+1] = j+1\n",
    "        j = f[0]\n",
    "    return p/2**(n-1) "
   ]
  },
  {
   "cell_type": "code",
   "execution_count": 16,
   "id": "225c384c-4150-4c9f-a41f-d1e4dbb113b5",
   "metadata": {},
   "outputs": [
    {
     "name": "stdout",
     "output_type": "stream",
     "text": [
      "\n",
      "10\n",
      "10.0\n",
      "10.0\n",
      "\n",
      "29556\n",
      "29556.0\n",
      "29556.0\n",
      "\n",
      "6778800\n",
      "6778800.0\n",
      "6778800.0\n"
     ]
    }
   ],
   "source": [
    "for a in (\n",
    "        [\n",
    "         [1, 2],\n",
    "         [3, 4]],\n",
    "\n",
    "        [\n",
    "         [1, 2, 3, 4],\n",
    "         [4, 5, 6, 7],\n",
    "         [7, 8, 9, 10],\n",
    "         [10, 11, 12, 13]],\n",
    "\n",
    "        [\n",
    "         [ 0,  1,  2,  3,  4],\n",
    "         [ 5,  6,  7,  8,  9],\n",
    "         [10, 11, 12, 13, 14],\n",
    "         [15, 16, 17, 18, 19],\n",
    "         [20, 21, 22, 23, 24]],\n",
    "    ):\n",
    "    print(\"\")\n",
    "    print(calc_perm_slow(np.array(a),np.array(a).shape[0]))\n",
    "    print(perm(a))\n",
    "    print(npperm(np.array(a)))"
   ]
  },
  {
   "cell_type": "code",
   "execution_count": 17,
   "id": "3a5e2e2c-26b7-482b-bc0f-9cae37c021e9",
   "metadata": {},
   "outputs": [],
   "source": [
    "def _calc_perm_slow(A,n):\n",
    "    sum = 0\n",
    "    rowsumprod = 0\n",
    "    rowsum = 0\n",
    "    chi = np.zeros(n+1,dtype=np.int64)\n",
    "    C = 2**n\n",
    "    for k in range(1,C):\n",
    "        rowsumprod = 1\n",
    "        chi = fast_gray_code(k,n)\n",
    "        for m in range(n):\n",
    "            rowsum = 0\n",
    "            for p in range(n):\n",
    "                #rowsum += chi[p] * A[m * n + p]\n",
    "                rowsum += chi[p] * A[m,p]\n",
    "            rowsumprod *= rowsum\n",
    "        sum += (-1)**(n-chi[n]) * rowsumprod\n",
    "    return sum"
   ]
  },
  {
   "cell_type": "code",
   "execution_count": 18,
   "id": "aadc9afd-52af-40e0-b139-80966d0fde01",
   "metadata": {},
   "outputs": [
    {
     "name": "stdout",
     "output_type": "stream",
     "text": [
      "[0, 1, 3, 2, 6, 7, 5, 4]\n",
      "[0, 1, 3, 2, 6, 7, 5, 4, 12, 13, 15, 14, 10, 11, 9, 8]\n",
      "[0, 1, 3, 2, 6, 7, 5, 4, 12, 13, 15, 14, 10, 11, 9, 8, 24, 25, 27, 26, 30, 31, 29, 28, 20, 21, 23, 22, 18, 19, 17, 16]\n"
     ]
    }
   ],
   "source": [
    "def _fast_gray_code(n):\n",
    "    return [i^(i>>1) for i in range(0, 1<<n)]\n",
    "\n",
    "print(_fast_gray_code(3))\n",
    "print(_fast_gray_code(4))\n",
    "print(_fast_gray_code(5))\n",
    "\n",
    "def _test_npperm(M):\n",
    "    n = M.shape[0]\n",
    "    d = np.ones(n,dtype=np.float64)\n",
    "    j =  0\n",
    "    s = 1\n",
    "    #f = np.arange(n)\n",
    "    f = _fast_gray_code(n)\n",
    "    v = M.sum(axis=0,dtype=np.float64)\n",
    "    p = np.prod(v)\n",
    "#    while (j < n-1):\n",
    "    for j in range(n):\n",
    "        v -= 2.0*f[j]*M[j]\n",
    "        #v -= 2.0*d[j]*M[j]\n",
    "        #d[j] = -d[j]\n",
    "        s = -s\n",
    "        prod = np.prod(v)\n",
    "        p += s*prod\n",
    "#        f[0] = 0\n",
    "#        f[j] = f[j+1]\n",
    "#        f[j+1] = j+1\n",
    "#        j = f[0]\n",
    "    return p/2**(n-1) "
   ]
  },
  {
   "cell_type": "code",
   "execution_count": 19,
   "id": "55756bb4-6cb0-4749-864e-7a7497f8caff",
   "metadata": {},
   "outputs": [
    {
     "name": "stdout",
     "output_type": "stream",
     "text": [
      "\n",
      "10\n",
      "10.0\n",
      "2.0\n",
      "\n",
      "29556\n",
      "29556.0\n",
      "4841088.0\n",
      "\n",
      "6778800\n",
      "6778800.0\n",
      "361934779500.0\n"
     ]
    }
   ],
   "source": [
    "for a in (\n",
    "        [\n",
    "         [1, 2],\n",
    "         [3, 4]],\n",
    "\n",
    "        [\n",
    "         [1, 2, 3, 4],\n",
    "         [4, 5, 6, 7],\n",
    "         [7, 8, 9, 10],\n",
    "         [10, 11, 12, 13]],\n",
    "\n",
    "        [\n",
    "         [ 0,  1,  2,  3,  4],\n",
    "         [ 5,  6,  7,  8,  9],\n",
    "         [10, 11, 12, 13, 14],\n",
    "         [15, 16, 17, 18, 19],\n",
    "         [20, 21, 22, 23, 24]],\n",
    "    ):\n",
    "    print(\"\")\n",
    "    print(_calc_perm_slow(np.array(a),np.array(a).shape[0]))\n",
    "    print(perm(a))\n",
    "    print(_test_npperm(np.array(a)))"
   ]
  },
  {
   "cell_type": "code",
   "execution_count": 20,
   "id": "2588e1ee-34d9-40e0-88c4-b492517c1140",
   "metadata": {},
   "outputs": [
    {
     "name": "stdout",
     "output_type": "stream",
     "text": [
      "0\n",
      "1\n",
      "0\n",
      "2\n",
      "0\n",
      "1\n",
      "0\n",
      "3\n",
      "0\n",
      "1\n",
      "0\n",
      "2\n",
      "0\n",
      "1\n",
      "0\n"
     ]
    }
   ],
   "source": [
    "j = 0\n",
    "n = 5\n",
    "f = np.arange(n)\n",
    "while (j < n-1):\n",
    "    print(j)\n",
    "    f[0] = 0\n",
    "    f[j] = f[j+1]\n",
    "    f[j+1] = j+1\n",
    "    j = f[0]"
   ]
  },
  {
   "cell_type": "code",
   "execution_count": null,
   "id": "a2c4f74d-1298-4345-974f-206eda06f468",
   "metadata": {},
   "outputs": [],
   "source": []
  }
 ],
 "metadata": {
  "kernelspec": {
   "display_name": "Python 3 (ipykernel)",
   "language": "python",
   "name": "python3"
  },
  "language_info": {
   "codemirror_mode": {
    "name": "ipython",
    "version": 3
   },
   "file_extension": ".py",
   "mimetype": "text/x-python",
   "name": "python",
   "nbconvert_exporter": "python",
   "pygments_lexer": "ipython3",
   "version": "3.8.12"
  }
 },
 "nbformat": 4,
 "nbformat_minor": 5
}
