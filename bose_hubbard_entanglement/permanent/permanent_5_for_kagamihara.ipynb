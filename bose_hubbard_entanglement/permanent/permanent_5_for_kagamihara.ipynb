{
 "cells": [
  {
   "cell_type": "code",
   "execution_count": 1,
   "id": "d4edc6ae-6146-493c-a895-c70388a21a8b",
   "metadata": {},
   "outputs": [],
   "source": [
    "# https://github.com/scipy/scipy/issues/7151\n",
    "# https://apps.dtic.mil/sti/pdfs/AD1004183.pdf\n",
    "# https://www.codeproject.com/Articles/21282/Compute-Permanent-of-a-Matrix-with-Ryser-s-Algorit\n",
    "\n",
    "# https://rosettacode.org/wiki/Determinant_and_permanent\n",
    "# https://codegolf.stackexchange.com/questions/97060/calculate-the-permanent-as-quickly-as-possible\n",
    "\n",
    "# https://stackoverflow.com/questions/38738835/generating-gray-codes\n",
    "# https://qiita.com/b1ueskydragon/items/75cfee42541ea723080c\n",
    "\n",
    "# https://qiita.com/phdax/items/3064de264c7933bab2f5\n",
    "# https://web.archive.org/web/20190108235115/https://www.hackersdelight.org/hdcodetxt/pop.c.txt\n",
    "# http://graphics.stanford.edu/~seander/bithacks.html#CountBitsSetParallel\n",
    "# https://stackoverflow.com/questions/9829578/fast-way-of-counting-non-zero-bits-in-positive-integer\n",
    "\n",
    "# https://stackoverflow.com/questions/22227595/convert-integer-to-binary-array-with-suitable-padding"
   ]
  },
  {
   "cell_type": "code",
   "execution_count": 2,
   "id": "aba8b382-bff8-4dcd-9695-ebdcfb249ad4",
   "metadata": {},
   "outputs": [],
   "source": [
    "import numpy as np\n",
    "import time\n",
    "from numba import jit\n",
    "import scipy.special as spsp\n",
    "import matplotlib.pyplot as plt"
   ]
  },
  {
   "cell_type": "code",
   "execution_count": 3,
   "id": "3868d761-fcf9-4093-9e1c-22e756d29c61",
   "metadata": {},
   "outputs": [],
   "source": [
    "# https://github.com/XanaduAI/thewalrus/blob/master/thewalrus/_permanent.py\n",
    "\n",
    "@jit(nopython=True)\n",
    "def perm_bbfg(M):  # pragma: no cover\n",
    "    \"\"\"\n",
    "    Returns the permanent of a matrix using the bbfg formula in Gray ordering\n",
    "    The code is a re-implementation from a Python 2 code found in\n",
    "    `Permanent code golf\n",
    "    <https://codegolf.stackexchange.com/questions/97060/calculate-the-permanent-as-quickly-as-possible>`_\n",
    "    using Numba.\n",
    "    Args:\n",
    "        M (array) : a square array.\n",
    "    Returns:\n",
    "        float or complex: the permanent of a matrix ``M``\n",
    "    \"\"\"\n",
    "\n",
    "    n = len(M)\n",
    "    if n == 0:\n",
    "        return M.dtype.type(1.0)\n",
    "    row_comb = np.sum(M, 0)\n",
    "    total = 0\n",
    "    old_gray = 0\n",
    "    sign = +1\n",
    "    binary_power_dict = np.array([2**i for i in range(n)])\n",
    "    num_loops = 2 ** (n - 1)\n",
    "    for bin_index in range(1, num_loops + 1):\n",
    "        reduced = np.prod(row_comb)\n",
    "        total += sign * reduced\n",
    "        new_gray = bin_index ^ (bin_index // 2)\n",
    "        gray_diff = old_gray ^ new_gray\n",
    "        gray_diff_index = np.searchsorted(binary_power_dict,gray_diff)\n",
    "        new_vector = M[gray_diff_index]\n",
    "        direction = 2 * ((old_gray > new_gray) - (old_gray < new_gray))\n",
    "        for i in range(n):\n",
    "            row_comb[i] += new_vector[i] * direction\n",
    "        sign = -sign\n",
    "        old_gray = new_gray\n",
    "    return total / num_loops"
   ]
  },
  {
   "cell_type": "code",
   "execution_count": 4,
   "id": "46bcfe67-f49c-49f7-95d7-7d09053a18a8",
   "metadata": {},
   "outputs": [
    {
     "name": "stdout",
     "output_type": "stream",
     "text": [
      "L: 4\n",
      "24.0\n",
      "time: 1.1755142211914062\n",
      "\n",
      "L: 5\n",
      "120.0\n",
      "time: 1.811981201171875e-05\n",
      "\n"
     ]
    }
   ],
   "source": [
    "for L in range(4,6):\n",
    "    a = np.ones((L,L),dtype=np.float64)\n",
    "    #print(a)\n",
    "    print(\"L:\",L)\n",
    "    start = time.time()\n",
    "    print(perm_bbfg(a))\n",
    "    end = time.time()\n",
    "    print(\"time:\",end-start)\n",
    "    print(\"\")"
   ]
  },
  {
   "cell_type": "code",
   "execution_count": null,
   "id": "ff0a439c-b5f5-4d43-9e2f-038154e0b8b8",
   "metadata": {},
   "outputs": [],
   "source": []
  },
  {
   "cell_type": "code",
   "execution_count": 5,
   "id": "11b15be4-58ef-44ba-a535-26bd7c562ce4",
   "metadata": {},
   "outputs": [],
   "source": [
    "#L = 100\n",
    "##L = 4\n",
    "#L_A = 2\n",
    "##L_A = 1\n",
    "#tstep = 10.0\n",
    "\n",
    "def calc_z(L,L_A,tstep):\n",
    "    x = np.zeros((L,L), dtype = np.float64)\n",
    "    for j in range(L):\n",
    "        for k in range(L):\n",
    "            x[j,k] = np.sin((j+1)*(k+1)*np.pi / (L+1))\n",
    "    x *= np.sqrt(2.0 / (L+1))\n",
    "    eps = np.array([-2.0 * np.cos((n+1) * np.pi / (L+1)) for n in range(L)])\n",
    "    #\n",
    "    ## y by definition\n",
    "    y = x @ (np.diag(np.exp(1j * eps * tstep))) @ x\n",
    "    ## y for thermodynamic limit\n",
    "    y_inf = np.zeros((L,L), dtype = np.complex128)\n",
    "    for j in range(L):\n",
    "        for k in range(L):\n",
    "            y_sub = (-1j)**(j-k) * (spsp.jn(j-k, 2.0 * tstep) + (-1)**(k) * spsp.jn(j+k+2, 2.0 * tstep))\n",
    "            y_inf[j,k] = y_sub\n",
    "    z = np.zeros((L,L), dtype = np.complex128)\n",
    "    for j in range(L):\n",
    "        for k in range(L):\n",
    "            for m in range(L_A):\n",
    "                z[j,k] += y[j,m].conjugate() * y[k,m]\n",
    "    ## z for thermodynamic limit\n",
    "    z_inf = np.zeros((L,L), dtype = np.complex128)\n",
    "    for j in range(L):\n",
    "        for k in range(L):\n",
    "            for m in range(L_A):\n",
    "                # z_inf[j,k] += y_inf[j,m].conjugate() * y_inf[k,m]\n",
    "                z_inf[j,k] += (-1)**(k+1) * (+1j)**(j+k+2) * (spsp.jn(j-m, 2.0 * tstep) + (-1)**(m) * spsp.jn(j+m+2, 2.0 * tstep)) \\\n",
    "                    * (spsp.jn(k-m, 2.0 * tstep) + (-1)**(m) * spsp.jn(k+m+2, 2.0 * tstep))\n",
    "    #\n",
    "    dlt = np.identity(L,dtype=np.float64)\n",
    "    matz = np.vstack( (np.hstack((z,dlt-z)), np.hstack((dlt-z,z))) )\n",
    "    return matz, z, z_inf\n",
    "\n",
    "#    ## check\n",
    "#    j = 1\n",
    "#    for k in range(L):\n",
    "#        print(z[j,k], z_inf[j,k])"
   ]
  },
  {
   "cell_type": "code",
   "execution_count": 6,
   "id": "47455a2e-6bcc-470e-92cf-31b8ccd98417",
   "metadata": {},
   "outputs": [],
   "source": [
    "L = 8\n",
    "L_A = 4\n",
    "tstep = 1.0\n",
    "matz, z, z_inf = calc_z(L,L_A,tstep)\n",
    "#print(matz)\n",
    "#print(z)"
   ]
  },
  {
   "cell_type": "code",
   "execution_count": 7,
   "id": "a3b18253-72ec-4670-9bee-5801b498d355",
   "metadata": {},
   "outputs": [
    {
     "name": "stdout",
     "output_type": "stream",
     "text": [
      "(0.1370061488038324-6.847207087229483e-16j)\n",
      "time: 0.8328032493591309\n",
      "\n"
     ]
    }
   ],
   "source": [
    "start = time.time()\n",
    "print(perm_bbfg(matz))\n",
    "end = time.time()\n",
    "print(\"time:\",end-start)\n",
    "print(\"\")"
   ]
  },
  {
   "cell_type": "code",
   "execution_count": null,
   "id": "fff1e166-63b3-4a45-bcae-284e7521a7c0",
   "metadata": {},
   "outputs": [],
   "source": []
  },
  {
   "cell_type": "code",
   "execution_count": 8,
   "id": "807166bd-64c9-4eae-9d2a-e98d5f431773",
   "metadata": {},
   "outputs": [],
   "source": [
    "L = 8\n",
    "L_A = 4\n",
    "ts = np.linspace(0,20,201)\n",
    "data = []\n",
    "for tstep in ts:\n",
    "    matz, z, z_inf = calc_z(L,L_A,tstep)\n",
    "    #print(tstep,-np.log(perm_bbfg(matz).real))\n",
    "    data.append([tstep,-np.log(perm_bbfg(matz).real)])\n",
    "data = np.array(data)"
   ]
  },
  {
   "cell_type": "code",
   "execution_count": 9,
   "id": "afc6fd48-f2ca-4308-af1d-db6c24c6c8e0",
   "metadata": {},
   "outputs": [
    {
     "data": {
      "text/plain": [
       "[<matplotlib.lines.Line2D at 0x120493d90>]"
      ]
     },
     "execution_count": 9,
     "metadata": {},
     "output_type": "execute_result"
    },
    {
     "data": {
      "image/png": "[encoded data removed]",
      "text/plain": [
       "<Figure size 432x288 with 1 Axes>"
      ]
     },
     "metadata": {
      "needs_background": "light"
     },
     "output_type": "display_data"
    }
   ],
   "source": [
    "plt.plot(data[:,0],data[:,1]*2)"
   ]
  },
  {
   "cell_type": "code",
   "execution_count": null,
   "id": "78cc6a0f-fb98-482f-a412-1726dbbedb04",
   "metadata": {},
   "outputs": [],
   "source": []
  }
 ],
 "metadata": {
  "kernelspec": {
   "display_name": "Python 3 (ipykernel)",
   "language": "python",
   "name": "python3"
  },
  "language_info": {
   "codemirror_mode": {
    "name": "ipython",
    "version": 3
   },
   "file_extension": ".py",
   "mimetype": "text/x-python",
   "name": "python",
   "nbconvert_exporter": "python",
   "pygments_lexer": "ipython3",
   "version": "3.8.12"
  }
 },
 "nbformat": 4,
 "nbformat_minor": 5
}
