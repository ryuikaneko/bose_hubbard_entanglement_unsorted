{
  "nbformat": 4,
  "nbformat_minor": 0,
  "metadata": {
    "colab": {
      "name": "googlecolab_permanent_check_matrix_3.ipynb",
      "provenance": [],
      "collapsed_sections": []
    },
    "kernelspec": {
      "name": "python3",
      "display_name": "Python 3"
    },
    "language_info": {
      "name": "python"
    }
  },
  "cells": [
    {
      "cell_type": "code",
      "execution_count": 1,
      "metadata": {
        "id": "6zolWIcv8XZj"
      },
      "outputs": [],
      "source": [
        "import numpy as np\n",
        "from numba import jit\n",
        "import matplotlib.pyplot as plt\n",
        "#import scipy.special as spsp\n",
        "#import time"
      ]
    },
    {
      "cell_type": "code",
      "source": [
        "# https://github.com/XanaduAI/thewalrus/blob/master/thewalrus/_permanent.py\n",
        "\n",
        "@jit(nopython=True)\n",
        "def perm_bbfg(M):  # pragma: no cover\n",
        "    \"\"\"\n",
        "    Returns the permanent of a matrix using the bbfg formula in Gray ordering\n",
        "    The code is a re-implementation from a Python 2 code found in\n",
        "    `Permanent code golf\n",
        "    <https://codegolf.stackexchange.com/questions/97060/calculate-the-permanent-as-quickly-as-possible>`_\n",
        "    using Numba.\n",
        "    Args:\n",
        "        M (array) : a square array.\n",
        "    Returns:\n",
        "        float or complex: the permanent of a matrix ``M``\n",
        "    \"\"\"\n",
        "\n",
        "    n = len(M)\n",
        "    if n == 0:\n",
        "        return M.dtype.type(1.0)\n",
        "    row_comb = np.sum(M, 0)\n",
        "    total = 0\n",
        "    old_gray = 0\n",
        "    sign = +1\n",
        "    binary_power_dict = np.array([2**i for i in range(n)])\n",
        "    num_loops = 2 ** (n - 1)\n",
        "    for bin_index in range(1, num_loops + 1):\n",
        "        reduced = np.prod(row_comb)\n",
        "        total += sign * reduced\n",
        "        new_gray = bin_index ^ (bin_index // 2)\n",
        "        gray_diff = old_gray ^ new_gray\n",
        "        gray_diff_index = np.searchsorted(binary_power_dict,gray_diff)\n",
        "        new_vector = M[gray_diff_index]\n",
        "        direction = 2 * ((old_gray > new_gray) - (old_gray < new_gray))\n",
        "        for i in range(n):\n",
        "            row_comb[i] += new_vector[i] * direction\n",
        "        sign = -sign\n",
        "        old_gray = new_gray\n",
        "    return total / num_loops"
      ],
      "metadata": {
        "id": "D7IHBPuB8gjk"
      },
      "execution_count": 2,
      "outputs": []
    },
    {
      "cell_type": "code",
      "source": [
        "@jit(nopython=True)\n",
        "def calc_z(L,L_A,tstep):\n",
        "#    x = np.zeros((L,L), dtype = np.float64)\n",
        "    x = np.zeros((L,L), dtype = np.complex128)\n",
        "    for j in range(L):\n",
        "        for k in range(L):\n",
        "            x[j,k] = np.sin((j+1)*(k+1)*np.pi / (L+1))\n",
        "    x *= np.sqrt(2.0 / (L+1))\n",
        "    eps = np.array([-2.0 * np.cos((n+1) * np.pi / (L+1)) for n in range(L)])\n",
        "    #\n",
        "    ## y by definition\n",
        "    y = x @ (np.diag(np.exp(1j * eps * tstep))) @ x\n",
        "    ## y for thermodynamic limit\n",
        "#    y_inf = np.zeros((L,L), dtype = np.complex128)\n",
        "#    for j in range(L):\n",
        "#        for k in range(L):\n",
        "#            y_sub = (-1j)**(j-k) * (spsp.jn(j-k, 2.0 * tstep) + (-1)**(k) * spsp.jn(j+k+2, 2.0 * tstep))\n",
        "#            y_inf[j,k] = y_sub\n",
        "    z = np.zeros((L,L), dtype = np.complex128)\n",
        "    for j in range(L):\n",
        "        for k in range(L):\n",
        "            for m in range(L_A):\n",
        "                z[j,k] += y[j,m].conjugate() * y[k,m]\n",
        "    ## z for thermodynamic limit\n",
        "#    z_inf = np.zeros((L,L), dtype = np.complex128)\n",
        "#    for j in range(L):\n",
        "#        for k in range(L):\n",
        "#            for m in range(L_A):\n",
        "#                # z_inf[j,k] += y_inf[j,m].conjugate() * y_inf[k,m]\n",
        "#                z_inf[j,k] += (-1)**(k+1) * (+1j)**(j+k+2) * (spsp.jn(j-m, 2.0 * tstep) + (-1)**(m) * spsp.jn(j+m+2, 2.0 * tstep)) \\\n",
        "#                    * (spsp.jn(k-m, 2.0 * tstep) + (-1)**(m) * spsp.jn(k+m+2, 2.0 * tstep))\n",
        "    #\n",
        "#    dlt = np.identity(L,dtype=np.float64)\n",
        "    dlt = np.eye(L,dtype=np.complex128)\n",
        "    matz = np.vstack( (np.hstack((z,dlt-z)), np.hstack((dlt-z,z))) )\n",
        "#    return matz, z, z_inf\n",
        "    return matz, z"
      ],
      "metadata": {
        "id": "Be4JRCwk8hxK"
      },
      "execution_count": 3,
      "outputs": []
    },
    {
      "cell_type": "code",
      "source": [
        "#L = 8\n",
        "#L_A = L//2\n",
        "#ts = np.linspace(0,20,201)\n",
        "#data = []\n",
        "#for tstep in ts:\n",
        "#    #matz, z, z_inf = calc_z(L,L_A,tstep)\n",
        "#    matz, z = calc_z(L,L_A,tstep)\n",
        "#    #print(tstep,-np.log(perm_bbfg(matz).real))\n",
        "#    data.append([tstep,-np.log(perm_bbfg(matz).real)])\n",
        "#data = np.array(data)\n",
        "#\n",
        "#plt.plot(data[:,0],data[:,1]*2)"
      ],
      "metadata": {
        "id": "vjmChVSY8na0"
      },
      "execution_count": 4,
      "outputs": []
    },
    {
      "cell_type": "code",
      "source": [
        "print(\"# L time max(z_diag) min(z_diag) max(z_offdiag)\")\n",
        "#Ls = [2**i for i in range(4,12)]\n",
        "Ls = [i for i in range(64,2048+64,64)]\n",
        "data = []\n",
        "for L in Ls:\n",
        "    L_A = L//2\n",
        "    #ts = [L//4]\n",
        "    #ts = [8*L]\n",
        "    ts = [1024*L**0.5]\n",
        "    for tstep in ts:\n",
        "        #matz, z, z_inf = calc_z(L,L_A,tstep)\n",
        "        matz, z = calc_z(L,L_A,tstep)\n",
        "        flag_offdiag = ~np.eye(z.shape[0],dtype=bool)\n",
        "        #print(flag_offdiag)\n",
        "        print(L, tstep, np.max(np.abs(np.diag(z))), np.min(np.abs(np.diag(z))), np.max(np.abs(z[flag_offdiag])) )\n",
        "        data.append([L, tstep, np.max(np.abs(np.diag(z))), np.min(np.abs(np.diag(z))), np.max(np.abs(z[flag_offdiag])) ])\n",
        "data = np.array(data)"
      ],
      "metadata": {
        "colab": {
          "base_uri": "https://localhost:8080/"
        },
        "id": "W_BZgoCV80L-",
        "outputId": "aa8f9b2c-7112-444b-deb8-29e115a59077"
      },
      "execution_count": 5,
      "outputs": [
        {
          "output_type": "stream",
          "name": "stdout",
          "text": [
            "# L time max(z_diag) min(z_diag) max(z_offdiag)\n",
            "64 8192.0 0.6640168215817998 0.3359831784181993 0.20319494300713592\n",
            "128 11585.237502960395 0.6771976381850016 0.32280236181499855 0.1680320452222972\n",
            "192 14188.960215604242 0.6364350332814981 0.36356496671850347 0.18016614587998664\n",
            "256 16384.0 0.5989087886230752 0.40109121137692694 0.13610747135320156\n",
            "320 18317.868871678278 0.5946369415176372 0.40536305848236115 0.183953078614822\n",
            "384 20066.219972879793 0.5817121392069118 0.41828786079308733 0.1155290687680146\n",
            "448 21673.994740241127 0.6005565050015083 0.3994434949984907 0.11547106122490061\n",
            "512 23170.47500592079 0.5792231537285405 0.42077684627146106 0.1021588312333383\n",
            "576 24576.0 0.5848414760922915 0.41515852390771096 0.10454885573873661\n",
            "640 25905.378592099365 0.5785286155761347 0.42147138442386434 0.10341254084135681\n",
            "704 27169.790282591435 0.5937079365679533 0.4062920634320446 0.10749213243075437\n",
            "768 28377.920431208484 0.5758078052182329 0.42419219478177667 0.11721943925621536\n",
            "832 29536.676048601 0.595051390151662 0.4049486098483353 0.12097985622721974\n",
            "896 30651.657312452127 0.5877334775727241 0.4122665224272769 0.11828891530836394\n",
            "960 31727.47957213116 0.5779754401809091 0.4220245598190883 0.12105838869682503\n",
            "1024 32768.0 0.5776379653274824 0.42236203467251676 0.12390919917697367\n",
            "1088 33776.481285059876 0.5882920037685354 0.4117079962314626 0.1274110156748458\n",
            "1152 34755.71250888118 0.6029022980879829 0.3970977019120157 0.1332179587565102\n",
            "1216 35708.1001454852 0.573716496726951 0.42628350327304443 0.13541298844841884\n",
            "1280 36635.737743356556 0.6131510793460514 0.38684892065394244 0.1325578771255189\n",
            "1344 37540.46009307824 0.5751449803830045 0.42485501961699623 0.13882177742274895\n",
            "1408 38423.885904473536 0.5944203775585762 0.40557962244142304 0.13976275626851117\n",
            "1472 39287.451838977795 0.6176135185857321 0.3823864814142609 0.137938134306261\n",
            "1536 40132.43994575959 0.5920136870314742 0.4079863129685266 0.14028707746633504\n",
            "1600 40960.0 0.6143796919340523 0.38562030806594516 0.14312139632954096\n",
            "1664 41771.16785535209 0.5966364363789778 0.4033635636210133 0.14356040241644893\n",
            "1728 42566.88064681273 0.6129702696872213 0.387029730312775 0.13843528538817262\n",
            "1792 43347.989480482254 0.6084414622304474 0.39155853776955263 0.14459650981081393\n",
            "1856 44115.270100045855 0.6142703307273425 0.38572966927264674 0.14670804602352078\n",
            "1920 44869.43191082321 0.5829710811144175 0.4170289188855806 0.14042117760739165\n",
            "1984 45611.125660303536 0.5884846539838821 0.4115153460161091 0.16026993664372444\n",
            "2048 46340.95001184158 0.6206694752393311 0.37933052476067064 0.14426547991791078\n"
          ]
        }
      ]
    },
    {
      "cell_type": "code",
      "source": [
        "plt.xlim(0,np.max(Ls))\n",
        "plt.ylim(0,1)\n",
        "plt.plot(data[:,0],data[:,2])\n",
        "plt.plot(data[:,0],data[:,3])\n",
        "plt.plot(data[:,0],data[:,4])\n",
        "plt.show()\n",
        "plt.close()"
      ],
      "metadata": {
        "colab": {
          "base_uri": "https://localhost:8080/",
          "height": 269
        },
        "id": "cTyyz5e39FuI",
        "outputId": "cce28bb9-4c8d-4339-f0ed-c7ab27a6be05"
      },
      "execution_count": 6,
      "outputs": [
        {
          "output_type": "display_data",
          "data": {
            "text/plain": [
              "<Figure size 432x288 with 1 Axes>"
            ],
            "image/png": "[encoded data removed]"
          },
          "metadata": {
            "needs_background": "light"
          }
        }
      ]
    },
    {
      "cell_type": "code",
      "source": [
        ""
      ],
      "metadata": {
        "id": "c-6nKunsFYtA"
      },
      "execution_count": 6,
      "outputs": []
    }
  ]
}