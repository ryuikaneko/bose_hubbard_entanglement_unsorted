{
  "nbformat": 4,
  "nbformat_minor": 0,
  "metadata": {
    "colab": {
      "name": "googlecolab_permanent_permIIII.ipynb",
      "provenance": [],
      "collapsed_sections": []
    },
    "kernelspec": {
      "name": "python3",
      "display_name": "Python 3"
    },
    "language_info": {
      "name": "python"
    }
  },
  "cells": [
    {
      "cell_type": "code",
      "execution_count": null,
      "metadata": {
        "id": "Jwzm1PSZ505Y"
      },
      "outputs": [],
      "source": [
        "import numpy as np\n",
        "from numba import jit"
      ]
    },
    {
      "cell_type": "code",
      "source": [
        "@jit(nopython=True)\n",
        "def perm_bbfg(M):  # pragma: no cover\n",
        "    \"\"\"\n",
        "    Returns the permanent of a matrix using the bbfg formula in Gray ordering\n",
        "    The code is a re-implementation from a Python 2 code found in\n",
        "    `Permanent code golf\n",
        "    <https://codegolf.stackexchange.com/questions/97060/calculate-the-permanent-as-quickly-as-possible>`_\n",
        "    using Numba.\n",
        "    Args:\n",
        "        M (array) : a square array.\n",
        "    Returns:\n",
        "        float or complex: the permanent of a matrix ``M``\n",
        "    \"\"\"\n",
        "\n",
        "    n = len(M)\n",
        "    if n == 0:\n",
        "        return M.dtype.type(1.0)\n",
        "    row_comb = np.sum(M, 0)\n",
        "    total = 0\n",
        "    old_gray = 0\n",
        "    sign = +1\n",
        "    binary_power_dict = np.array([2**i for i in range(n)])\n",
        "    num_loops = 2 ** (n - 1)\n",
        "    for bin_index in range(1, num_loops + 1):\n",
        "        reduced = np.prod(row_comb)\n",
        "        total += sign * reduced\n",
        "        new_gray = bin_index ^ (bin_index // 2)\n",
        "        gray_diff = old_gray ^ new_gray\n",
        "        gray_diff_index = np.searchsorted(binary_power_dict,gray_diff)\n",
        "        new_vector = M[gray_diff_index]\n",
        "        direction = 2 * ((old_gray > new_gray) - (old_gray < new_gray))\n",
        "        for i in range(n):\n",
        "            row_comb[i] += new_vector[i] * direction\n",
        "        sign = -sign\n",
        "        old_gray = new_gray\n",
        "    return total / num_loops"
      ],
      "metadata": {
        "id": "8S8PEilh54Kb"
      },
      "execution_count": null,
      "outputs": []
    },
    {
      "cell_type": "code",
      "source": [
        "#for i in range(11):\n",
        "#  print(i,perm_bbfg(np.ones((i,i),dtype=np.float64)))"
      ],
      "metadata": {
        "id": "C6ld4UU058QM"
      },
      "execution_count": null,
      "outputs": []
    },
    {
      "cell_type": "code",
      "source": [
        "#for i in range(11):\n",
        "#  print(i,perm_bbfg(np.eye(i,dtype=np.float64)))"
      ],
      "metadata": {
        "id": "sPPK6F1u6Tyr"
      },
      "execution_count": null,
      "outputs": []
    },
    {
      "cell_type": "code",
      "source": [
        "for i in range(6):\n",
        "  tmp = 0.5*np.eye(i,dtype=np.float64)\n",
        "  tmp = np.block([[tmp,tmp],[tmp,tmp]])\n",
        "  print(tmp)\n",
        "  print(i,perm_bbfg(tmp),2**(-i))"
      ],
      "metadata": {
        "colab": {
          "base_uri": "https://localhost:8080/"
        },
        "id": "n3Clbtwd7HLT",
        "outputId": "0d479f7e-bee7-4905-b582-545e45b8a263"
      },
      "execution_count": null,
      "outputs": [
        {
          "output_type": "stream",
          "name": "stdout",
          "text": [
            "[]\n",
            "0 1.0 1\n",
            "[[0.5 0.5]\n",
            " [0.5 0.5]]\n",
            "1 0.5 0.5\n",
            "[[0.5 0.  0.5 0. ]\n",
            " [0.  0.5 0.  0.5]\n",
            " [0.5 0.  0.5 0. ]\n",
            " [0.  0.5 0.  0.5]]\n",
            "2 0.25 0.25\n",
            "[[0.5 0.  0.  0.5 0.  0. ]\n",
            " [0.  0.5 0.  0.  0.5 0. ]\n",
            " [0.  0.  0.5 0.  0.  0.5]\n",
            " [0.5 0.  0.  0.5 0.  0. ]\n",
            " [0.  0.5 0.  0.  0.5 0. ]\n",
            " [0.  0.  0.5 0.  0.  0.5]]\n",
            "3 0.125 0.125\n",
            "[[0.5 0.  0.  0.  0.5 0.  0.  0. ]\n",
            " [0.  0.5 0.  0.  0.  0.5 0.  0. ]\n",
            " [0.  0.  0.5 0.  0.  0.  0.5 0. ]\n",
            " [0.  0.  0.  0.5 0.  0.  0.  0.5]\n",
            " [0.5 0.  0.  0.  0.5 0.  0.  0. ]\n",
            " [0.  0.5 0.  0.  0.  0.5 0.  0. ]\n",
            " [0.  0.  0.5 0.  0.  0.  0.5 0. ]\n",
            " [0.  0.  0.  0.5 0.  0.  0.  0.5]]\n",
            "4 0.0625 0.0625\n",
            "[[0.5 0.  0.  0.  0.  0.5 0.  0.  0.  0. ]\n",
            " [0.  0.5 0.  0.  0.  0.  0.5 0.  0.  0. ]\n",
            " [0.  0.  0.5 0.  0.  0.  0.  0.5 0.  0. ]\n",
            " [0.  0.  0.  0.5 0.  0.  0.  0.  0.5 0. ]\n",
            " [0.  0.  0.  0.  0.5 0.  0.  0.  0.  0.5]\n",
            " [0.5 0.  0.  0.  0.  0.5 0.  0.  0.  0. ]\n",
            " [0.  0.5 0.  0.  0.  0.  0.5 0.  0.  0. ]\n",
            " [0.  0.  0.5 0.  0.  0.  0.  0.5 0.  0. ]\n",
            " [0.  0.  0.  0.5 0.  0.  0.  0.  0.5 0. ]\n",
            " [0.  0.  0.  0.  0.5 0.  0.  0.  0.  0.5]]\n",
            "5 0.03125 0.03125\n"
          ]
        }
      ]
    },
    {
      "cell_type": "code",
      "source": [
        ""
      ],
      "metadata": {
        "id": "-fhUtVzA76Qm"
      },
      "execution_count": null,
      "outputs": []
    }
  ]
}