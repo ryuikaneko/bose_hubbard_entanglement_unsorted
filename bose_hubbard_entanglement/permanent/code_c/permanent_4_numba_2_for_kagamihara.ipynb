{
 "cells": [
  {
   "cell_type": "code",
   "execution_count": 1,
   "id": "d4edc6ae-6146-493c-a895-c70388a21a8b",
   "metadata": {},
   "outputs": [],
   "source": [
    "# https://github.com/scipy/scipy/issues/7151\n",
    "# https://apps.dtic.mil/sti/pdfs/AD1004183.pdf\n",
    "# https://www.codeproject.com/Articles/21282/Compute-Permanent-of-a-Matrix-with-Ryser-s-Algorit\n",
    "\n",
    "# https://rosettacode.org/wiki/Determinant_and_permanent\n",
    "# https://codegolf.stackexchange.com/questions/97060/calculate-the-permanent-as-quickly-as-possible\n",
    "\n",
    "# https://stackoverflow.com/questions/38738835/generating-gray-codes\n",
    "# https://qiita.com/b1ueskydragon/items/75cfee42541ea723080c\n",
    "\n",
    "# https://qiita.com/phdax/items/3064de264c7933bab2f5\n",
    "# https://web.archive.org/web/20190108235115/https://www.hackersdelight.org/hdcodetxt/pop.c.txt\n",
    "# http://graphics.stanford.edu/~seander/bithacks.html#CountBitsSetParallel\n",
    "# https://stackoverflow.com/questions/9829578/fast-way-of-counting-non-zero-bits-in-positive-integer\n",
    "\n",
    "# https://stackoverflow.com/questions/22227595/convert-integer-to-binary-array-with-suitable-padding"
   ]
  },
  {
   "cell_type": "code",
   "execution_count": 2,
   "id": "aba8b382-bff8-4dcd-9695-ebdcfb249ad4",
   "metadata": {},
   "outputs": [],
   "source": [
    "import numpy as np\n",
    "import time\n",
    "from numba import jit"
   ]
  },
  {
   "cell_type": "code",
   "execution_count": 30,
   "id": "3868d761-fcf9-4093-9e1c-22e756d29c61",
   "metadata": {},
   "outputs": [],
   "source": [
    "# https://github.com/XanaduAI/thewalrus/blob/master/thewalrus/_permanent.py\n",
    "\n",
    "@jit(nopython=True)\n",
    "def perm_bbfg(M):  # pragma: no cover\n",
    "    \"\"\"\n",
    "    Returns the permanent of a matrix using the bbfg formula in Gray ordering\n",
    "    The code is a re-implementation from a Python 2 code found in\n",
    "    `Permanent code golf\n",
    "    <https://codegolf.stackexchange.com/questions/97060/calculate-the-permanent-as-quickly-as-possible>`_\n",
    "    using Numba.\n",
    "    Args:\n",
    "        M (array) : a square array.\n",
    "    Returns:\n",
    "        float or complex: the permanent of a matrix ``M``\n",
    "    \"\"\"\n",
    "\n",
    "    n = len(M)\n",
    "    if n == 0:\n",
    "        return M.dtype.type(1.0)\n",
    "    row_comb = np.sum(M, 0)\n",
    "    #print(row_comb)\n",
    "    #print()\n",
    "    total = 0\n",
    "    old_gray = 0\n",
    "    sign = +1\n",
    "    binary_power_dict = np.array([2**i for i in range(n)])\n",
    "    num_loops = 2 ** (n - 1)\n",
    "    for bin_index in range(1, num_loops + 1):\n",
    "        #print()\n",
    "        #print(\"row_comb\",row_comb)\n",
    "        #print()\n",
    "        reduced = np.prod(row_comb)\n",
    "        #print()\n",
    "        #print(\"reduced\",reduced)\n",
    "        #print()\n",
    "        total += sign * reduced\n",
    "        new_gray = bin_index ^ (bin_index // 2)\n",
    "        gray_diff = old_gray ^ new_gray\n",
    "        gray_diff_index = np.searchsorted(binary_power_dict,gray_diff)\n",
    "        #print(\"gray_diff\",gray_diff)\n",
    "        #print(\"gray_diff_index\",gray_diff_index)\n",
    "        new_vector = M[gray_diff_index]\n",
    "        #print()\n",
    "        #print(\"new_vector\",new_vector)\n",
    "        #print()\n",
    "        direction = 2 * ((old_gray > new_gray) - (old_gray < new_gray))\n",
    "        #print(\"direction\",direction)\n",
    "        #print()\n",
    "        for i in range(n):\n",
    "            row_comb[i] += new_vector[i] * direction\n",
    "        sign = -sign\n",
    "        old_gray = new_gray\n",
    "    return total / num_loops"
   ]
  },
  {
   "cell_type": "code",
   "execution_count": 38,
   "id": "a1fd75f6-c5d6-42b0-a09e-0b31efb399f7",
   "metadata": {},
   "outputs": [
    {
     "name": "stdout",
     "output_type": "stream",
     "text": [
      "L: 30\n",
      "2.6525286056257648e+32\n",
      "time: 25.711397171020508\n",
      "\n"
     ]
    }
   ],
   "source": [
    "#L = 28\n",
    "L = 30\n",
    "a = np.ones((L,L),dtype=np.float64)\n",
    "#a = np.zeros((L,L),dtype=np.float64)\n",
    "#for i in range(L):\n",
    "#    for j in range(L):\n",
    "#        a[i,j] = i*L+j+1\n",
    "#print(a)\n",
    "print(\"L:\",L)\n",
    "start = time.time()\n",
    "print(perm_bbfg(a))\n",
    "end = time.time()\n",
    "print(\"time:\",end-start)\n",
    "print(\"\")"
   ]
  },
  {
   "cell_type": "code",
   "execution_count": 33,
   "id": "46bcfe67-f49c-49f7-95d7-7d09053a18a8",
   "metadata": {},
   "outputs": [],
   "source": [
    "# for L in range(4,33):\n",
    "#     a = np.ones((L,L),dtype=np.float64)\n",
    "#     #print(a)\n",
    "#     print(\"L:\",L)\n",
    "#     start = time.time()\n",
    "#     print(perm_bbfg(a))\n",
    "#     end = time.time()\n",
    "#     print(\"time:\",end-start)\n",
    "#     print(\"\")"
   ]
  },
  {
   "cell_type": "code",
   "execution_count": null,
   "id": "ff0a439c-b5f5-4d43-9e2f-038154e0b8b8",
   "metadata": {},
   "outputs": [],
   "source": []
  }
 ],
 "metadata": {
  "kernelspec": {
   "display_name": "Python 3 (ipykernel)",
   "language": "python",
   "name": "python3"
  },
  "language_info": {
   "codemirror_mode": {
    "name": "ipython",
    "version": 3
   },
   "file_extension": ".py",
   "mimetype": "text/x-python",
   "name": "python",
   "nbconvert_exporter": "python",
   "pygments_lexer": "ipython3",
   "version": "3.8.12"
  }
 },
 "nbformat": 4,
 "nbformat_minor": 5
}
