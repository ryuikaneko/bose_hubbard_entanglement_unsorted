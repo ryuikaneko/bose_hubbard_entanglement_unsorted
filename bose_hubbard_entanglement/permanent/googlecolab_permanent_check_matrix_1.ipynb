{
  "nbformat": 4,
  "nbformat_minor": 0,
  "metadata": {
    "colab": {
      "name": "googlecolab_permanent_check_matrix_1.ipynb",
      "provenance": [],
      "collapsed_sections": []
    },
    "kernelspec": {
      "name": "python3",
      "display_name": "Python 3"
    },
    "language_info": {
      "name": "python"
    }
  },
  "cells": [
    {
      "cell_type": "markdown",
      "source": [
        "https://github.com/ryuikaneko/private_quspin_dynamics_bose_hubbard_chain/blob/master/mott_init_U0_quench_ee/permanent/permanent_5_for_kagamihara.ipynb"
      ],
      "metadata": {
        "id": "G1oA4-Tp8C3-"
      }
    },
    {
      "cell_type": "code",
      "execution_count": 1,
      "metadata": {
        "id": "kDZK9B807O7U"
      },
      "outputs": [],
      "source": [
        "import numpy as np\n",
        "import time\n",
        "from numba import jit\n",
        "import scipy.special as spsp\n",
        "import matplotlib.pyplot as plt"
      ]
    },
    {
      "cell_type": "code",
      "source": [
        "# https://github.com/XanaduAI/thewalrus/blob/master/thewalrus/_permanent.py\n",
        "\n",
        "@jit(nopython=True)\n",
        "def perm_bbfg(M):  # pragma: no cover\n",
        "    \"\"\"\n",
        "    Returns the permanent of a matrix using the bbfg formula in Gray ordering\n",
        "    The code is a re-implementation from a Python 2 code found in\n",
        "    `Permanent code golf\n",
        "    <https://codegolf.stackexchange.com/questions/97060/calculate-the-permanent-as-quickly-as-possible>`_\n",
        "    using Numba.\n",
        "    Args:\n",
        "        M (array) : a square array.\n",
        "    Returns:\n",
        "        float or complex: the permanent of a matrix ``M``\n",
        "    \"\"\"\n",
        "\n",
        "    n = len(M)\n",
        "    if n == 0:\n",
        "        return M.dtype.type(1.0)\n",
        "    row_comb = np.sum(M, 0)\n",
        "    total = 0\n",
        "    old_gray = 0\n",
        "    sign = +1\n",
        "    binary_power_dict = np.array([2**i for i in range(n)])\n",
        "    num_loops = 2 ** (n - 1)\n",
        "    for bin_index in range(1, num_loops + 1):\n",
        "        reduced = np.prod(row_comb)\n",
        "        total += sign * reduced\n",
        "        new_gray = bin_index ^ (bin_index // 2)\n",
        "        gray_diff = old_gray ^ new_gray\n",
        "        gray_diff_index = np.searchsorted(binary_power_dict,gray_diff)\n",
        "        new_vector = M[gray_diff_index]\n",
        "        direction = 2 * ((old_gray > new_gray) - (old_gray < new_gray))\n",
        "        for i in range(n):\n",
        "            row_comb[i] += new_vector[i] * direction\n",
        "        sign = -sign\n",
        "        old_gray = new_gray\n",
        "    return total / num_loops"
      ],
      "metadata": {
        "id": "gxH3l3407rI5"
      },
      "execution_count": 2,
      "outputs": []
    },
    {
      "cell_type": "code",
      "source": [
        "for L in range(4,6):\n",
        "    a = np.ones((L,L),dtype=np.float64)\n",
        "    #print(a)\n",
        "    print(\"L:\",L)\n",
        "    start = time.time()\n",
        "    print(perm_bbfg(a))\n",
        "    end = time.time()\n",
        "    print(\"time:\",end-start)\n",
        "    print(\"\")"
      ],
      "metadata": {
        "colab": {
          "base_uri": "https://localhost:8080/"
        },
        "id": "4TemGLEm7tOY",
        "outputId": "be72e6a4-7d04-4e08-d559-257e7940ce28"
      },
      "execution_count": 3,
      "outputs": [
        {
          "output_type": "stream",
          "name": "stdout",
          "text": [
            "L: 4\n",
            "24.0\n",
            "time: 1.8883025646209717\n",
            "\n",
            "L: 5\n",
            "120.0\n",
            "time: 0.0018835067749023438\n",
            "\n"
          ]
        }
      ]
    },
    {
      "cell_type": "code",
      "source": [
        "@jit(nopython=True)\n",
        "def calc_z(L,L_A,tstep):\n",
        "#    x = np.zeros((L,L), dtype = np.float64)\n",
        "    x = np.zeros((L,L), dtype = np.complex128)\n",
        "    for j in range(L):\n",
        "        for k in range(L):\n",
        "            x[j,k] = np.sin((j+1)*(k+1)*np.pi / (L+1))\n",
        "    x *= np.sqrt(2.0 / (L+1))\n",
        "    eps = np.array([-2.0 * np.cos((n+1) * np.pi / (L+1)) for n in range(L)])\n",
        "    #\n",
        "    ## y by definition\n",
        "    y = x @ (np.diag(np.exp(1j * eps * tstep))) @ x\n",
        "    ## y for thermodynamic limit\n",
        "#    y_inf = np.zeros((L,L), dtype = np.complex128)\n",
        "#    for j in range(L):\n",
        "#        for k in range(L):\n",
        "#            y_sub = (-1j)**(j-k) * (spsp.jn(j-k, 2.0 * tstep) + (-1)**(k) * spsp.jn(j+k+2, 2.0 * tstep))\n",
        "#            y_inf[j,k] = y_sub\n",
        "    z = np.zeros((L,L), dtype = np.complex128)\n",
        "    for j in range(L):\n",
        "        for k in range(L):\n",
        "            for m in range(L_A):\n",
        "                z[j,k] += y[j,m].conjugate() * y[k,m]\n",
        "    ## z for thermodynamic limit\n",
        "#    z_inf = np.zeros((L,L), dtype = np.complex128)\n",
        "#    for j in range(L):\n",
        "#        for k in range(L):\n",
        "#            for m in range(L_A):\n",
        "#                # z_inf[j,k] += y_inf[j,m].conjugate() * y_inf[k,m]\n",
        "#                z_inf[j,k] += (-1)**(k+1) * (+1j)**(j+k+2) * (spsp.jn(j-m, 2.0 * tstep) + (-1)**(m) * spsp.jn(j+m+2, 2.0 * tstep)) \\\n",
        "#                    * (spsp.jn(k-m, 2.0 * tstep) + (-1)**(m) * spsp.jn(k+m+2, 2.0 * tstep))\n",
        "    #\n",
        "#    dlt = np.identity(L,dtype=np.float64)\n",
        "    dlt = np.eye(L,dtype=np.complex128)\n",
        "    matz = np.vstack( (np.hstack((z,dlt-z)), np.hstack((dlt-z,z))) )\n",
        "#    return matz, z, z_inf\n",
        "    return matz, z"
      ],
      "metadata": {
        "id": "l2I0Ja4y7vRe"
      },
      "execution_count": 4,
      "outputs": []
    },
    {
      "cell_type": "code",
      "source": [
        "L = 8\n",
        "L_A = 4\n",
        "tstep = 1.0\n",
        "#matz, z, z_inf = calc_z(L,L_A,tstep)\n",
        "matz, z = calc_z(L,L_A,tstep)\n",
        "#print(matz)\n",
        "#print(z)"
      ],
      "metadata": {
        "id": "9aqq2cbh7ySF"
      },
      "execution_count": 5,
      "outputs": []
    },
    {
      "cell_type": "code",
      "source": [
        "start = time.time()\n",
        "print(perm_bbfg(matz))\n",
        "end = time.time()\n",
        "print(\"time:\",end-start)\n",
        "print(\"\")"
      ],
      "metadata": {
        "colab": {
          "base_uri": "https://localhost:8080/"
        },
        "id": "Bl1X-Z487zpl",
        "outputId": "4284c545-00fa-4c49-9564-5f838630f812"
      },
      "execution_count": 6,
      "outputs": [
        {
          "output_type": "stream",
          "name": "stdout",
          "text": [
            "(0.13700614880382728-3.613876525023415e-16j)\n",
            "time: 2.830320119857788\n",
            "\n"
          ]
        }
      ]
    },
    {
      "cell_type": "code",
      "source": [
        "L = 8\n",
        "L_A = 4\n",
        "ts = np.linspace(0,20,201)\n",
        "data = []\n",
        "for tstep in ts:\n",
        "    #matz, z, z_inf = calc_z(L,L_A,tstep)\n",
        "    matz, z = calc_z(L,L_A,tstep)\n",
        "    #print(tstep,-np.log(perm_bbfg(matz).real))\n",
        "    data.append([tstep,-np.log(perm_bbfg(matz).real)])\n",
        "data = np.array(data)"
      ],
      "metadata": {
        "id": "5Xk9Daqp72Kb"
      },
      "execution_count": 7,
      "outputs": []
    },
    {
      "cell_type": "code",
      "source": [
        "plt.plot(data[:,0],data[:,1]*2)"
      ],
      "metadata": {
        "colab": {
          "base_uri": "https://localhost:8080/",
          "height": 283
        },
        "id": "-oMr_qUe74U2",
        "outputId": "4a53bf55-7e07-4fba-8036-f2e4d06ec66b"
      },
      "execution_count": 8,
      "outputs": [
        {
          "output_type": "execute_result",
          "data": {
            "text/plain": [
              "[<matplotlib.lines.Line2D at 0x7efd90914710>]"
            ]
          },
          "metadata": {},
          "execution_count": 8
        },
        {
          "output_type": "display_data",
          "data": {
            "text/plain": [
              "<Figure size 432x288 with 1 Axes>"
            ],
            "image/png": "[encoded data removed]"
          },
          "metadata": {
            "needs_background": "light"
          }
        }
      ]
    },
    {
      "cell_type": "code",
      "source": [
        ""
      ],
      "metadata": {
        "id": "3kE5i3Ej76dw"
      },
      "execution_count": 8,
      "outputs": []
    }
  ]
}