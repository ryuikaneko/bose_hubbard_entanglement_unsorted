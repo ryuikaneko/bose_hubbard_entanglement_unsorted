{
 "cells": [
  {
   "cell_type": "code",
   "execution_count": 1,
   "id": "d4edc6ae-6146-493c-a895-c70388a21a8b",
   "metadata": {},
   "outputs": [],
   "source": [
    "# https://github.com/scipy/scipy/issues/7151\n",
    "# https://apps.dtic.mil/sti/pdfs/AD1004183.pdf\n",
    "# https://www.codeproject.com/Articles/21282/Compute-Permanent-of-a-Matrix-with-Ryser-s-Algorit\n",
    "\n",
    "# https://stackoverflow.com/questions/38738835/generating-gray-codes\n",
    "# https://qiita.com/b1ueskydragon/items/75cfee42541ea723080c\n",
    "\n",
    "# https://qiita.com/phdax/items/3064de264c7933bab2f5\n",
    "# https://web.archive.org/web/20190108235115/https://www.hackersdelight.org/hdcodetxt/pop.c.txt\n",
    "# http://graphics.stanford.edu/~seander/bithacks.html#CountBitsSetParallel\n",
    "# https://stackoverflow.com/questions/9829578/fast-way-of-counting-non-zero-bits-in-positive-integer\n",
    "\n",
    "# https://stackoverflow.com/questions/22227595/convert-integer-to-binary-array-with-suitable-padding"
   ]
  },
  {
   "cell_type": "code",
   "execution_count": 2,
   "id": "aba8b382-bff8-4dcd-9695-ebdcfb249ad4",
   "metadata": {},
   "outputs": [],
   "source": [
    "import numpy as np"
   ]
  },
  {
   "cell_type": "code",
   "execution_count": 3,
   "id": "5463fd7b-f7f3-45b1-9c3f-1a09b02c45a5",
   "metadata": {},
   "outputs": [
    {
     "name": "stdout",
     "output_type": "stream",
     "text": [
      "   0 00000    0\n",
      "   1 00001    1\n",
      "   2 00011    3\n",
      "   3 00010    2\n",
      "   4 00110    6\n",
      "   5 00111    7\n",
      "   6 00101    5\n",
      "   7 00100    4\n",
      "   8 01100   12\n",
      "   9 01101   13\n",
      "  10 01111   15\n",
      "  11 01110   14\n",
      "  12 01010   10\n",
      "  13 01011   11\n",
      "  14 01001    9\n",
      "  15 01000    8\n",
      "  16 11000   24\n",
      "  17 11001   25\n",
      "  18 11011   27\n",
      "  19 11010   26\n",
      "  20 11110   30\n",
      "  21 11111   31\n",
      "  22 11101   29\n",
      "  23 11100   28\n",
      "  24 10100   20\n",
      "  25 10101   21\n",
      "  26 10111   23\n",
      "  27 10110   22\n",
      "  28 10010   18\n",
      "  29 10011   19\n",
      "  30 10001   17\n",
      "  31 10000   16\n"
     ]
    }
   ],
   "source": [
    "n = 5\n",
    "for i in range(0, 1<<n):\n",
    "    gray = i^(i>>1)\n",
    "    print(\"{:4d}\".format(i),\"{0:0{1}b}\".format(gray,n),\"{:4d}\".format(gray))"
   ]
  },
  {
   "cell_type": "code",
   "execution_count": 4,
   "id": "b829d098-9bc5-47f9-9cc1-612fd3e5a8f3",
   "metadata": {},
   "outputs": [],
   "source": [
    "def count_bits(bit):\n",
    "    count = bit\n",
    "## 32 bits\n",
    "#    count = (count & 0x55555555) + ((count >> 1) & 0x55555555)\n",
    "#    count = (count & 0x33333333) + ((count >> 2) & 0x33333333)\n",
    "#    count = (count & 0x0F0F0F0F) + ((count >> 4) & 0x0F0F0F0F)\n",
    "#    count = (count & 0x00FF00FF) + ((count >> 8) & 0x00FF00FF)\n",
    "#    count = (count & 0x0000FFFF) + ((count >>16) & 0x0000FFFF)\n",
    "## 64 bits\n",
    "    count = (count & 0x5555555555555555) + ((count & 0xAAAAAAAAAAAAAAAA) >> 1)\n",
    "    count = (count & 0x3333333333333333) + ((count & 0xCCCCCCCCCCCCCCCC) >> 2)\n",
    "    count = (count & 0x0F0F0F0F0F0F0F0F) + ((count & 0xF0F0F0F0F0F0F0F0) >> 4)\n",
    "    count = (count & 0x00FF00FF00FF00FF) + ((count & 0xFF00FF00FF00FF00) >> 8)\n",
    "    count = (count & 0x0000FFFF0000FFFF) + ((count & 0xFFFF0000FFFF0000) >> 16)\n",
    "    count = (count & 0x00000000FFFFFFFF) + ((count & 0xFFFFFFFF00000000) >> 32)\n",
    "    return count"
   ]
  },
  {
   "cell_type": "code",
   "execution_count": 5,
   "id": "a6f26269-6dfa-4cce-b972-926a2b40c53d",
   "metadata": {},
   "outputs": [],
   "source": [
    "def gray_code(i,n):\n",
    "    gray = i^(i>>1)\n",
    "    bit_gray = np.array(list(np.binary_repr(gray).zfill(n))+[count_bits(gray)]).astype(np.int64)\n",
    "    return gray, count_bits(gray), bit_gray"
   ]
  },
  {
   "cell_type": "code",
   "execution_count": 6,
   "id": "f31f73c9-2ea2-4b34-98f3-0f07b0aeb72f",
   "metadata": {},
   "outputs": [
    {
     "name": "stdout",
     "output_type": "stream",
     "text": [
      "   0 00000    0 0 [0 0 0 0 0 0]\n",
      "   1 00001    1 1 [0 0 0 0 1 1]\n",
      "   2 00011    3 2 [0 0 0 1 1 2]\n",
      "   3 00010    2 1 [0 0 0 1 0 1]\n",
      "   4 00110    6 2 [0 0 1 1 0 2]\n",
      "   5 00111    7 3 [0 0 1 1 1 3]\n",
      "   6 00101    5 2 [0 0 1 0 1 2]\n",
      "   7 00100    4 1 [0 0 1 0 0 1]\n",
      "   8 01100   12 2 [0 1 1 0 0 2]\n",
      "   9 01101   13 3 [0 1 1 0 1 3]\n",
      "  10 01111   15 4 [0 1 1 1 1 4]\n",
      "  11 01110   14 3 [0 1 1 1 0 3]\n",
      "  12 01010   10 2 [0 1 0 1 0 2]\n",
      "  13 01011   11 3 [0 1 0 1 1 3]\n",
      "  14 01001    9 2 [0 1 0 0 1 2]\n",
      "  15 01000    8 1 [0 1 0 0 0 1]\n",
      "  16 11000   24 2 [1 1 0 0 0 2]\n",
      "  17 11001   25 3 [1 1 0 0 1 3]\n",
      "  18 11011   27 4 [1 1 0 1 1 4]\n",
      "  19 11010   26 3 [1 1 0 1 0 3]\n",
      "  20 11110   30 4 [1 1 1 1 0 4]\n",
      "  21 11111   31 5 [1 1 1 1 1 5]\n",
      "  22 11101   29 4 [1 1 1 0 1 4]\n",
      "  23 11100   28 3 [1 1 1 0 0 3]\n",
      "  24 10100   20 2 [1 0 1 0 0 2]\n",
      "  25 10101   21 3 [1 0 1 0 1 3]\n",
      "  26 10111   23 4 [1 0 1 1 1 4]\n",
      "  27 10110   22 3 [1 0 1 1 0 3]\n",
      "  28 10010   18 2 [1 0 0 1 0 2]\n",
      "  29 10011   19 3 [1 0 0 1 1 3]\n",
      "  30 10001   17 2 [1 0 0 0 1 2]\n",
      "  31 10000   16 1 [1 0 0 0 0 1]\n"
     ]
    }
   ],
   "source": [
    "n = 5\n",
    "for i in range(0, 1<<n):\n",
    "    gray, nbit, bit_gray = gray_code(i,n)\n",
    "    print(\"{:4d}\".format(i),\"{0:0{1}b}\".format(gray,n),\"{:4d}\".format(gray),nbit,bit_gray)"
   ]
  },
  {
   "cell_type": "code",
   "execution_count": 7,
   "id": "b5fec16b-fdbf-4e48-9e23-b21900637a96",
   "metadata": {},
   "outputs": [],
   "source": [
    "def slow_gray_code(n,dim):\n",
    "    res = np.zeros(dim+1,dtype=np.int64)\n",
    "    pos = dim - 1\n",
    "    while n>0:\n",
    "        res[pos] = n%2\n",
    "        res[dim] += res[pos]\n",
    "        n = n//2\n",
    "        pos = pos-1\n",
    "    return res"
   ]
  },
  {
   "cell_type": "code",
   "execution_count": 8,
   "id": "f99cc6cc-99c9-447c-b087-cf93f349577b",
   "metadata": {},
   "outputs": [
    {
     "name": "stdout",
     "output_type": "stream",
     "text": [
      "[0 0 0 0 0 0]\n",
      "[0 0 0 0 1 1]\n",
      "[0 0 0 1 0 1]\n",
      "[0 0 0 1 1 2]\n",
      "[0 0 1 0 0 1]\n",
      "[0 0 1 0 1 2]\n",
      "[0 0 1 1 0 2]\n",
      "[0 0 1 1 1 3]\n",
      "[0 1 0 0 0 1]\n",
      "[0 1 0 0 1 2]\n",
      "[0 1 0 1 0 2]\n",
      "[0 1 0 1 1 3]\n",
      "[0 1 1 0 0 2]\n",
      "[0 1 1 0 1 3]\n",
      "[0 1 1 1 0 3]\n",
      "[0 1 1 1 1 4]\n",
      "[1 0 0 0 0 1]\n",
      "[1 0 0 0 1 2]\n",
      "[1 0 0 1 0 2]\n",
      "[1 0 0 1 1 3]\n",
      "[1 0 1 0 0 2]\n",
      "[1 0 1 0 1 3]\n",
      "[1 0 1 1 0 3]\n",
      "[1 0 1 1 1 4]\n",
      "[1 1 0 0 0 2]\n",
      "[1 1 0 0 1 3]\n",
      "[1 1 0 1 0 3]\n",
      "[1 1 0 1 1 4]\n",
      "[1 1 1 0 0 3]\n",
      "[1 1 1 0 1 4]\n",
      "[1 1 1 1 0 4]\n",
      "[1 1 1 1 1 5]\n"
     ]
    }
   ],
   "source": [
    "n = 5\n",
    "for i in range(0, 1<<n):\n",
    "    gray = slow_gray_code(i,n)\n",
    "    print(gray)"
   ]
  },
  {
   "cell_type": "code",
   "execution_count": null,
   "id": "c642f1ca-7f0a-4d40-b63c-3638d3089eed",
   "metadata": {},
   "outputs": [],
   "source": []
  }
 ],
 "metadata": {
  "kernelspec": {
   "display_name": "Python 3 (ipykernel)",
   "language": "python",
   "name": "python3"
  },
  "language_info": {
   "codemirror_mode": {
    "name": "ipython",
    "version": 3
   },
   "file_extension": ".py",
   "mimetype": "text/x-python",
   "name": "python",
   "nbconvert_exporter": "python",
   "pygments_lexer": "ipython3",
   "version": "3.8.12"
  }
 },
 "nbformat": 4,
 "nbformat_minor": 5
}
