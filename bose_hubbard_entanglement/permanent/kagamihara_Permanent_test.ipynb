{
 "cells": [
  {
   "cell_type": "code",
   "execution_count": null,
   "id": "8423a5d5",
   "metadata": {},
   "outputs": [],
   "source": [
    "import numpy as np\n",
    "import scipy.special as spsp\n",
    "\n",
    "L = 100\n",
    "L_A = 1\n",
    "x = np.zeros((L,L), dtype = np.float64)\n",
    "for j in range(L):\n",
    "  for k in range(L):\n",
    "    x[j,k] = np.sin((j+1)*(k+1)*np.pi / (L+1))\n",
    "x *= np.sqrt(2.0 / (L+1))\n",
    "eps = np.array([-2.0 * np.cos((n+1) * np.pi / (L+1)) for n in range(L)])\n",
    "\n",
    "for j_t in range(19,20):\n",
    "  time = 10.0#0.1 * j_t\n",
    "  ## y by definition\n",
    "  y = x @ (np.diag(np.exp(1j * eps * time))) @ x\n",
    "  ## y for thermodynamic limit\n",
    "  y_inf = np.zeros((L,L), dtype = np.complex128)\n",
    "  for j in range(L):\n",
    "    for k in range(L):\n",
    "      # y_sub = - (-1j)**(j+k+2) * spsp.jn(j+k+2, 2.0 * time) \\\n",
    "      #         + (-1j)**(j-k  ) * spsp.jn(j-k  , 2.0 * time)\n",
    "      y_sub = (-1j)**(j-k) * (spsp.jn(j-k, 2.0 * time) + (-1)**(k) * spsp.jn(j+k+2, 2.0 * time))\n",
    "      y_inf[j,k] = y_sub\n",
    "  ## compare\n",
    "  # j = 3\n",
    "  # for k in range(L):\n",
    "  #   print(y[j,k], y_inf[j,k])\n",
    "  #\n",
    "  ## z by definition\n",
    "  z = np.zeros((L,L), dtype = np.complex128)\n",
    "  for j in range(L):\n",
    "    for k in range(L):\n",
    "      for m in range(L_A):\n",
    "        z[j,k] += y[j,m].conjugate() * y[k,m]\n",
    "  ## z for thermodynamic limit\n",
    "  z_inf = np.zeros((L,L), dtype = np.complex128)\n",
    "  for j in range(L):\n",
    "    for k in range(L):\n",
    "      for m in range(L_A):\n",
    "        # z_inf[j,k] += y_inf[j,m].conjugate() * y_inf[k,m]\n",
    "        z_inf[j,k] += (-1)**(k+1) * (+1j)**(j+k+2) * (spsp.jn(j-m, 2.0 * time) + (-1)**(m) * spsp.jn(j+m+2, 2.0 * time)) \\\n",
    "                                                   * (spsp.jn(k-m, 2.0 * time) + (-1)**(m) * spsp.jn(k+m+2, 2.0 * time))\n",
    "  ## check\n",
    "  j = 1\n",
    "  for k in range(L):\n",
    "    print(z[j,k], z_inf[j,k])"
   ]
  },
  {
   "cell_type": "code",
   "execution_count": null,
   "id": "840eaa4b",
   "metadata": {},
   "outputs": [],
   "source": []
  }
 ],
 "metadata": {
  "interpreter": {
   "hash": "857970f990130bbcaee778cf1846f7875676d945310dca1379fe4b5ef3d258a5"
  },
  "kernelspec": {
   "display_name": "Python 3 (ipykernel)",
   "language": "python",
   "name": "python3"
  },
  "language_info": {
   "codemirror_mode": {
    "name": "ipython",
    "version": 3
   },
   "file_extension": ".py",
   "mimetype": "text/x-python",
   "name": "python",
   "nbconvert_exporter": "python",
   "pygments_lexer": "ipython3",
   "version": "3.8.12"
  }
 },
 "nbformat": 4,
 "nbformat_minor": 5
}
