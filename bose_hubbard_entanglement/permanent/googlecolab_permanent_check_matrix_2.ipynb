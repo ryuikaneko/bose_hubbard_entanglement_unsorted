{
  "nbformat": 4,
  "nbformat_minor": 0,
  "metadata": {
    "colab": {
      "name": "googlecolab_permanent_check_matrix_2.ipynb",
      "provenance": [],
      "collapsed_sections": []
    },
    "kernelspec": {
      "name": "python3",
      "display_name": "Python 3"
    },
    "language_info": {
      "name": "python"
    }
  },
  "cells": [
    {
      "cell_type": "code",
      "execution_count": 1,
      "metadata": {
        "id": "6zolWIcv8XZj"
      },
      "outputs": [],
      "source": [
        "import numpy as np\n",
        "from numba import jit\n",
        "import matplotlib.pyplot as plt\n",
        "#import scipy.special as spsp\n",
        "#import time"
      ]
    },
    {
      "cell_type": "code",
      "source": [
        "# https://github.com/XanaduAI/thewalrus/blob/master/thewalrus/_permanent.py\n",
        "\n",
        "@jit(nopython=True)\n",
        "def perm_bbfg(M):  # pragma: no cover\n",
        "    \"\"\"\n",
        "    Returns the permanent of a matrix using the bbfg formula in Gray ordering\n",
        "    The code is a re-implementation from a Python 2 code found in\n",
        "    `Permanent code golf\n",
        "    <https://codegolf.stackexchange.com/questions/97060/calculate-the-permanent-as-quickly-as-possible>`_\n",
        "    using Numba.\n",
        "    Args:\n",
        "        M (array) : a square array.\n",
        "    Returns:\n",
        "        float or complex: the permanent of a matrix ``M``\n",
        "    \"\"\"\n",
        "\n",
        "    n = len(M)\n",
        "    if n == 0:\n",
        "        return M.dtype.type(1.0)\n",
        "    row_comb = np.sum(M, 0)\n",
        "    total = 0\n",
        "    old_gray = 0\n",
        "    sign = +1\n",
        "    binary_power_dict = np.array([2**i for i in range(n)])\n",
        "    num_loops = 2 ** (n - 1)\n",
        "    for bin_index in range(1, num_loops + 1):\n",
        "        reduced = np.prod(row_comb)\n",
        "        total += sign * reduced\n",
        "        new_gray = bin_index ^ (bin_index // 2)\n",
        "        gray_diff = old_gray ^ new_gray\n",
        "        gray_diff_index = np.searchsorted(binary_power_dict,gray_diff)\n",
        "        new_vector = M[gray_diff_index]\n",
        "        direction = 2 * ((old_gray > new_gray) - (old_gray < new_gray))\n",
        "        for i in range(n):\n",
        "            row_comb[i] += new_vector[i] * direction\n",
        "        sign = -sign\n",
        "        old_gray = new_gray\n",
        "    return total / num_loops"
      ],
      "metadata": {
        "id": "D7IHBPuB8gjk"
      },
      "execution_count": 2,
      "outputs": []
    },
    {
      "cell_type": "code",
      "source": [
        "@jit(nopython=True)\n",
        "def calc_z(L,L_A,tstep):\n",
        "#    x = np.zeros((L,L), dtype = np.float64)\n",
        "    x = np.zeros((L,L), dtype = np.complex128)\n",
        "    for j in range(L):\n",
        "        for k in range(L):\n",
        "            x[j,k] = np.sin((j+1)*(k+1)*np.pi / (L+1))\n",
        "    x *= np.sqrt(2.0 / (L+1))\n",
        "    eps = np.array([-2.0 * np.cos((n+1) * np.pi / (L+1)) for n in range(L)])\n",
        "    #\n",
        "    ## y by definition\n",
        "    y = x @ (np.diag(np.exp(1j * eps * tstep))) @ x\n",
        "    ## y for thermodynamic limit\n",
        "#    y_inf = np.zeros((L,L), dtype = np.complex128)\n",
        "#    for j in range(L):\n",
        "#        for k in range(L):\n",
        "#            y_sub = (-1j)**(j-k) * (spsp.jn(j-k, 2.0 * tstep) + (-1)**(k) * spsp.jn(j+k+2, 2.0 * tstep))\n",
        "#            y_inf[j,k] = y_sub\n",
        "    z = np.zeros((L,L), dtype = np.complex128)\n",
        "    for j in range(L):\n",
        "        for k in range(L):\n",
        "            for m in range(L_A):\n",
        "                z[j,k] += y[j,m].conjugate() * y[k,m]\n",
        "    ## z for thermodynamic limit\n",
        "#    z_inf = np.zeros((L,L), dtype = np.complex128)\n",
        "#    for j in range(L):\n",
        "#        for k in range(L):\n",
        "#            for m in range(L_A):\n",
        "#                # z_inf[j,k] += y_inf[j,m].conjugate() * y_inf[k,m]\n",
        "#                z_inf[j,k] += (-1)**(k+1) * (+1j)**(j+k+2) * (spsp.jn(j-m, 2.0 * tstep) + (-1)**(m) * spsp.jn(j+m+2, 2.0 * tstep)) \\\n",
        "#                    * (spsp.jn(k-m, 2.0 * tstep) + (-1)**(m) * spsp.jn(k+m+2, 2.0 * tstep))\n",
        "    #\n",
        "#    dlt = np.identity(L,dtype=np.float64)\n",
        "    dlt = np.eye(L,dtype=np.complex128)\n",
        "    matz = np.vstack( (np.hstack((z,dlt-z)), np.hstack((dlt-z,z))) )\n",
        "#    return matz, z, z_inf\n",
        "    return matz, z"
      ],
      "metadata": {
        "id": "Be4JRCwk8hxK"
      },
      "execution_count": 3,
      "outputs": []
    },
    {
      "cell_type": "code",
      "source": [
        "#L = 8\n",
        "#L_A = L//2\n",
        "#ts = np.linspace(0,20,201)\n",
        "#data = []\n",
        "#for tstep in ts:\n",
        "#    #matz, z, z_inf = calc_z(L,L_A,tstep)\n",
        "#    matz, z = calc_z(L,L_A,tstep)\n",
        "#    #print(tstep,-np.log(perm_bbfg(matz).real))\n",
        "#    data.append([tstep,-np.log(perm_bbfg(matz).real)])\n",
        "#data = np.array(data)\n",
        "#\n",
        "#plt.plot(data[:,0],data[:,1]*2)"
      ],
      "metadata": {
        "id": "vjmChVSY8na0"
      },
      "execution_count": 4,
      "outputs": []
    },
    {
      "cell_type": "code",
      "source": [
        "print(\"# L time max(z_diag) min(z_diag) max(z_offdiag)\")\n",
        "#Ls = [2**i for i in range(4,12)]\n",
        "Ls = [i for i in range(64,1024+64,64)]\n",
        "data = []\n",
        "for L in Ls:\n",
        "    L_A = L//2\n",
        "    #ts = [L//4]\n",
        "    #ts = [8*L]\n",
        "    ts = [1024*L]\n",
        "    for tstep in ts:\n",
        "        #matz, z, z_inf = calc_z(L,L_A,tstep)\n",
        "        matz, z = calc_z(L,L_A,tstep)\n",
        "        flag_offdiag = ~np.eye(z.shape[0],dtype=bool)\n",
        "        #print(flag_offdiag)\n",
        "        print(L, tstep, np.max(np.abs(np.diag(z))), np.min(np.abs(np.diag(z))), np.max(np.abs(z[flag_offdiag])) )\n",
        "        data.append([L, tstep, np.max(np.abs(np.diag(z))), np.min(np.abs(np.diag(z))), np.max(np.abs(z[flag_offdiag])) ])\n",
        "data = np.array(data)"
      ],
      "metadata": {
        "colab": {
          "base_uri": "https://localhost:8080/"
        },
        "id": "W_BZgoCV80L-",
        "outputId": "372d7958-5b4e-4d5a-a7b9-e4f1dc98f458"
      },
      "execution_count": 5,
      "outputs": [
        {
          "output_type": "stream",
          "name": "stdout",
          "text": [
            "# L time max(z_diag) min(z_diag) max(z_offdiag)\n",
            "64 65536 0.6909825923720784 0.3090174076279214 0.22056948826596656\n",
            "128 131072 0.672781353523123 0.3272186464768776 0.19295365027601835\n",
            "192 196608 0.6137207708701263 0.3862792291298705 0.16199843628895194\n",
            "256 262144 0.6067106670911435 0.393289332908857 0.1607182962198606\n",
            "320 327680 0.608016514155238 0.39198348584476167 0.13084660801516856\n",
            "384 393216 0.599365591937611 0.4006344080623909 0.11654527355055475\n",
            "448 458752 0.5896064764438245 0.4103935235561791 0.11685572341884236\n",
            "512 524288 0.586745480430494 0.4132545195695069 0.09497258451264035\n",
            "576 589824 0.5658382092715819 0.4341617907284186 0.11293945228272183\n",
            "640 655360 0.5969173464509248 0.4030826535490709 0.10914505690983504\n",
            "704 720896 0.5787636173084413 0.42123638269155816 0.11833350705581322\n",
            "768 786432 0.5629979337882198 0.4370020662117793 0.09179085725754957\n",
            "832 851968 0.5739172420995343 0.4260827579004693 0.08610876393699521\n",
            "896 917504 0.5555434273282553 0.4444565726717518 0.09408255104391987\n",
            "960 983040 0.5513950566397449 0.44860494336025364 0.08000127168257917\n",
            "1024 1048576 0.5848165784635898 0.4151834215364074 0.08400906934809446\n"
          ]
        }
      ]
    },
    {
      "cell_type": "code",
      "source": [
        "plt.xlim(0,np.max(Ls))\n",
        "plt.ylim(0,1)\n",
        "plt.plot(data[:,0],data[:,2])\n",
        "plt.plot(data[:,0],data[:,3])\n",
        "plt.plot(data[:,0],data[:,4])\n",
        "plt.show()\n",
        "plt.close()"
      ],
      "metadata": {
        "colab": {
          "base_uri": "https://localhost:8080/",
          "height": 269
        },
        "id": "cTyyz5e39FuI",
        "outputId": "41933d14-4ed9-4195-86a0-387afcab5af6"
      },
      "execution_count": 6,
      "outputs": [
        {
          "output_type": "display_data",
          "data": {
            "text/plain": [
              "<Figure size 432x288 with 1 Axes>"
            ],
            "image/png": "[encoded data removed]"
          },
          "metadata": {
            "needs_background": "light"
          }
        }
      ]
    },
    {
      "cell_type": "code",
      "source": [
        ""
      ],
      "metadata": {
        "id": "c-6nKunsFYtA"
      },
      "execution_count": 6,
      "outputs": []
    }
  ]
}