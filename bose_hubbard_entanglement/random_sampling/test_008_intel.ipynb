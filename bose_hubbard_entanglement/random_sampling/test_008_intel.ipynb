{
 "cells": [
  {
   "cell_type": "code",
   "execution_count": 1,
   "id": "3117bb6a",
   "metadata": {},
   "outputs": [],
   "source": [
    "# https://arxiv.org/abs/cond-mat/0703314\n",
    "# https://arxiv.org/abs/0808.3779\n",
    "\n",
    "# https://github.com/scipy/scipy/issues/7151\n",
    "# https://apps.dtic.mil/sti/pdfs/AD1004183.pdf\n",
    "# https://www.codeproject.com/Articles/21282/Compute-Permanent-of-a-Matrix-with-Ryser-s-Algorit\n",
    "\n",
    "# https://rosettacode.org/wiki/Determinant_and_permanent\n",
    "# https://codegolf.stackexchange.com/questions/97060/calculate-the-permanent-as-quickly-as-possible\n",
    "\n",
    "# https://stackoverflow.com/questions/38738835/generating-gray-codes\n",
    "# https://qiita.com/b1ueskydragon/items/75cfee42541ea723080c\n",
    "\n",
    "# https://qiita.com/phdax/items/3064de264c7933bab2f5\n",
    "# https://web.archive.org/web/20190108235115/https://www.hackersdelight.org/hdcodetxt/pop.c.txt\n",
    "# http://graphics.stanford.edu/~seander/bithacks.html#CountBitsSetParallel\n",
    "# https://stackoverflow.com/questions/9829578/fast-way-of-counting-non-zero-bits-in-positive-integer\n",
    "\n",
    "# https://stackoverflow.com/questions/22227595/convert-integer-to-binary-array-with-suitable-padding"
   ]
  },
  {
   "cell_type": "code",
   "execution_count": 2,
   "id": "e1dc139f",
   "metadata": {},
   "outputs": [],
   "source": [
    "import numpy as np\n",
    "import matplotlib.pyplot as plt\n",
    "from numba import jit\n",
    "import time"
   ]
  },
  {
   "cell_type": "code",
   "execution_count": 3,
   "id": "7ce391bd",
   "metadata": {},
   "outputs": [],
   "source": [
    "# https://github.com/XanaduAI/thewalrus/blob/master/thewalrus/_permanent.py\n",
    "\n",
    "@jit(nopython=True)\n",
    "def perm_bbfg(M):  # pragma: no cover\n",
    "    \"\"\"\n",
    "    Returns the permanent of a matrix using the bbfg formula in Gray ordering\n",
    "    The code is a re-implementation from a Python 2 code found in\n",
    "    `Permanent code golf\n",
    "    <https://codegolf.stackexchange.com/questions/97060/calculate-the-permanent-as-quickly-as-possible>`_\n",
    "    using Numba.\n",
    "    Args:\n",
    "        M (array) : a square array.\n",
    "    Returns:\n",
    "        float or complex: the permanent of a matrix ``M``\n",
    "    \"\"\"\n",
    "\n",
    "    n = len(M)\n",
    "    if n == 0:\n",
    "        return M.dtype.type(1.0)\n",
    "    row_comb = np.sum(M, 0)\n",
    "    total = 0\n",
    "    old_gray = 0\n",
    "    sign = +1\n",
    "    binary_power_dict = np.array([2**i for i in range(n)])\n",
    "    num_loops = 2 ** (n - 1)\n",
    "    for bin_index in range(1, num_loops + 1):\n",
    "        reduced = np.prod(row_comb)\n",
    "        total += sign * reduced\n",
    "        new_gray = bin_index ^ (bin_index // 2)\n",
    "        gray_diff = old_gray ^ new_gray\n",
    "        gray_diff_index = np.searchsorted(binary_power_dict,gray_diff)\n",
    "        new_vector = M[gray_diff_index]\n",
    "        direction = 2 * ((old_gray > new_gray) - (old_gray < new_gray))\n",
    "        for i in range(n):\n",
    "            row_comb[i] += new_vector[i] * direction\n",
    "        sign = -sign\n",
    "        old_gray = new_gray\n",
    "    return total / num_loops"
   ]
  },
  {
   "cell_type": "code",
   "execution_count": 4,
   "id": "c5b94c9d",
   "metadata": {},
   "outputs": [],
   "source": [
    "@jit(nopython=True)\n",
    "def calc_rsks(L):\n",
    "    rs = np.arange(1,L+1) ## from 1 to L\n",
    "    ks = np.linspace(np.pi/(L+1.0),L*np.pi/(L+1.0),L)\n",
    "    return rs,ks\n",
    "\n",
    "@jit(nopython=True)\n",
    "def calc_eks(J,ks):\n",
    "    return -2.0*J*np.cos(ks)\n",
    "\n",
    "@jit(nopython=True)\n",
    "def calc_xkrs(L,ks,rs):\n",
    "    return np.sqrt(2.0/(L+1.0))*np.sin(np.outer(ks,rs))\n",
    "\n",
    "@jit(nopython=True)\n",
    "def calc_ys(t,eks,xkrs):\n",
    "    xc = (1.0+0.0j)*xkrs # for numba\n",
    "    expeks = np.diag(np.exp(1j*t*eks))\n",
    "    return xc @ expeks @ xc\n",
    "\n",
    "# @jit(nopython=True)\n",
    "# def calc_fs(ys,system):\n",
    "#     diag = (1.0+0.0j)*np.diag(system)\n",
    "#     return ys @ diag @ ys.T.conjugate()\n",
    "\n",
    "@jit(nopython=True)\n",
    "def calc_fs_cdw(ys,system,period=1):\n",
    "    diag = (1.0+0.0j)*np.diag(system)\n",
    "    ycuts = np.copy(ys[::period,:]) ## avoid NumbaPerformanceWarning to make contiguous arrays by deep copy\n",
    "#    ycuts = ys[::period,:]\n",
    "    return ycuts @ diag @ ycuts.T.conjugate()\n",
    "\n",
    "@jit(nopython=True)\n",
    "def calc_z(L,system,t,eks,xkrs,period=1):\n",
    "    ys = calc_ys(t,eks,xkrs)\n",
    "#    fs = calc_fs(ys,system)\n",
    "    fs = calc_fs_cdw(ys,system,period)\n",
    "    dlt = np.eye(fs.shape[0],dtype=np.complex128)\n",
    "    return np.vstack( (np.hstack((fs,dlt-fs)), np.hstack((dlt-fs,fs))) )\n",
    "\n",
    "@jit(nopython=True)\n",
    "def get_dat(L,system,J,ts,period=1):\n",
    "    rs, ks = calc_rsks(L)\n",
    "    eks = calc_eks(J,ks)\n",
    "    xkrs = calc_xkrs(L,ks,rs)\n",
    "    data = np.zeros((len(ts),2),dtype=np.float64)\n",
    "    for i,t in enumerate(ts):\n",
    "        matz = calc_z(L,system,t,eks,xkrs,period)\n",
    "        data[i] = np.array([t,-np.log(perm_bbfg(matz).real)])\n",
    "    return data"
   ]
  },
  {
   "cell_type": "code",
   "execution_count": 5,
   "id": "4803353e",
   "metadata": {},
   "outputs": [],
   "source": [
    "@jit(nopython=True)\n",
    "def get_dat_2(L,system,J,ts,Nsmp,rnd,period=1):\n",
    "    rs, ks = calc_rsks(L)\n",
    "    eks = calc_eks(J,ks)\n",
    "    xkrs = calc_xkrs(L,ks,rs)\n",
    "    data = np.zeros((len(ts),2),dtype=np.float64)\n",
    "    #\n",
    "    #seed = 12345\n",
    "    #rng = np.random.default_rng(seed)\n",
    "    #Nsmp = 2**10\n",
    "    data2 = np.zeros((len(ts),2),dtype=np.float64)\n",
    "    data2err1 = np.zeros((len(ts),2),dtype=np.float64)\n",
    "    data2err2 = np.zeros((len(ts),2),dtype=np.float64)\n",
    "    #\n",
    "    for i,t in enumerate(ts):\n",
    "        matz = calc_z(L,system,t,eks,xkrs,period)\n",
    "        #data[i] = np.array([t,-np.log(perm_bbfg(matz).real)])\n",
    "        #\n",
    "        lenmatz = matz.shape[0]\n",
    "        bounds = np.zeros(Nsmp,dtype=np.float64)\n",
    "        for step in range(Nsmp):\n",
    "            #rnd = np.pi * rng.uniform(-1,1,lenmatz)\n",
    "            vec = np.cos(rnd[step]) + 1j * np.sin(rnd[step])\n",
    "            #bounds[step] = (np.sum(np.abs(matz.dot(vec)))/lenmatz)**lenmatz\n",
    "            #bounds[step] = np.prod(np.abs(matz.dot(vec)))\n",
    "            bounds[step] = np.prod(vec.conjugate()*matz.dot(vec)).real\n",
    "        #data2[i] = np.array([t,-np.log(np.average(bounds))])\n",
    "        #data2[i] = np.array([t,-np.log(np.sum(bounds)/len(bounds))])\n",
    "        ave = np.sum(bounds)/len(bounds)\n",
    "        var = np.sum((bounds-ave)**2)/len(bounds)\n",
    "        err = np.sqrt(var/len(bounds))\n",
    "        data2[i] = np.array([t,-np.log(ave)])\n",
    "        data2err1[i] = np.array([t,-np.log(ave+err)])\n",
    "        data2err2[i] = np.array([t,-np.log(np.abs(ave-err))])\n",
    "        #\n",
    "    return data, data2, data2err1, data2err2"
   ]
  },
  {
   "cell_type": "code",
   "execution_count": null,
   "id": "cf2a1858",
   "metadata": {},
   "outputs": [],
   "source": []
  },
  {
   "cell_type": "code",
   "execution_count": 6,
   "id": "ecb13e6f",
   "metadata": {},
   "outputs": [],
   "source": [
    "# ## Mott insulator initial\n",
    "\n",
    "# period = 1\n",
    "# J = 1.0\n",
    "# ts = np.linspace(0,20,201)\n",
    "# #Ls = [4,6,8,10]\n",
    "# Ls = [8,16,24,32]\n",
    "\n",
    "# seed = 12345\n",
    "# rng = np.random.default_rng(seed)\n",
    "# #Nsmp = 2**14\n",
    "# Nsmp = 2**16\n",
    "\n",
    "# datas = np.zeros((len(Ls),len(ts),2),dtype=np.float64)\n",
    "# datas2 = np.zeros((len(Ls),len(ts),2),dtype=np.float64)\n",
    "# datas2err1 = np.zeros((len(Ls),len(ts),2),dtype=np.float64)\n",
    "# datas2err2 = np.zeros((len(Ls),len(ts),2),dtype=np.float64)\n",
    "# for i,L in enumerate(Ls):\n",
    "#     start = time.time()\n",
    "#     #\n",
    "#     rnd = np.zeros((Nsmp,2*L),dtype=np.float64)\n",
    "#     for step in range(Nsmp):\n",
    "#         rnd[step] = np.pi * rng.uniform(-1,1,2*L)\n",
    "#     #\n",
    "#     system = np.array([1.0 if i<L//2 else 0.0 for i in range(L)])\n",
    "# #    datas[i] = get_dat(L,system,J,ts,period)\n",
    "#     datas[i], datas2[i], datas2err1[i], datas2err2[i] = get_dat_2(L,system,J,ts,Nsmp,rnd,period)\n",
    "#     end = time.time()\n",
    "#     print(\"L,calctime:\",L,end-start)\n",
    "    \n",
    "# cmap = plt.get_cmap(\"tab20\")\n",
    "# plt.xlim(0,20)\n",
    "# #plt.ylim(0,6)\n",
    "# plt.grid()\n",
    "# for i,L in enumerate(Ls):\n",
    "#     plt.fill_between(datas2[i,:,0],datas2err1[i,:,1],datas2err2[i,:,1],fc=cmap(2*i+1),ec=cmap(2*i+0))\n",
    "#     #plt.plot(datas[i,:,0],datas[i,:,1],color=\"black\")\n",
    "# plt.show()"
   ]
  },
  {
   "cell_type": "code",
   "execution_count": 7,
   "id": "fd7a0f81",
   "metadata": {},
   "outputs": [],
   "source": [
    "# ## CDW 010101... initial\n",
    "\n",
    "# period = 2\n",
    "# J = 1.0\n",
    "# #ts = np.linspace(0,20,201)\n",
    "# ts = np.linspace(0,40,201)\n",
    "# #Ls = [4,6,8,10,12,14,16,18,20]\n",
    "# #Ls = [8,16,24,32,40,48]\n",
    "# Ls = [16,32,48,64]\n",
    "\n",
    "# seed = 12345\n",
    "# rng = np.random.default_rng(seed)\n",
    "# #Nsmp = 2**14\n",
    "# Nsmp = 2**16\n",
    "\n",
    "# datas = np.zeros((len(Ls),len(ts),2),dtype=np.float64)\n",
    "# datas2 = np.zeros((len(Ls),len(ts),2),dtype=np.float64)\n",
    "# datas2err1 = np.zeros((len(Ls),len(ts),2),dtype=np.float64)\n",
    "# datas2err2 = np.zeros((len(Ls),len(ts),2),dtype=np.float64)\n",
    "# for i,L in enumerate(Ls):\n",
    "#     start = time.time()\n",
    "#     #\n",
    "#     rnd = np.zeros((Nsmp,L),dtype=np.float64)\n",
    "#     for step in range(Nsmp):\n",
    "#         rnd[step] = np.pi * rng.uniform(-1,1,L)\n",
    "#     #\n",
    "#     system = np.array([1.0 if i<L//2 else 0.0 for i in range(L)])\n",
    "# #    datas[i] = get_dat(L,system,J,ts,period)\n",
    "#     datas[i], datas2[i], datas2err1[i], datas2err2[i] = get_dat_2(L,system,J,ts,Nsmp,rnd,period)\n",
    "#     end = time.time()\n",
    "#     print(\"L,calctime:\",L,end-start)\n",
    "    \n",
    "# cmap = plt.get_cmap(\"tab20\")\n",
    "# plt.xlim(0,40)\n",
    "# #plt.ylim(0,7)\n",
    "# plt.grid()\n",
    "# for i,L in enumerate(Ls):\n",
    "#     plt.fill_between(datas2[i,:,0],datas2err1[i,:,1],datas2err2[i,:,1],fc=cmap(2*i+1),ec=cmap(2*i+0))\n",
    "#     #plt.plot(datas[i,:,0],datas[i,:,1],color=\"black\")\n",
    "# plt.show()"
   ]
  },
  {
   "cell_type": "code",
   "execution_count": 8,
   "id": "8a6141a6",
   "metadata": {},
   "outputs": [],
   "source": [
    "@jit(nopython=True)\n",
    "def calc_renyi(period,J,ts,Ls,rnd,Nsmp):\n",
    "    datas = np.zeros((len(Ls),len(ts),2),dtype=np.float64)\n",
    "    datas2 = np.zeros((len(Ls),len(ts),2),dtype=np.float64)\n",
    "    datas2err1 = np.zeros((len(Ls),len(ts),2),dtype=np.float64)\n",
    "    datas2err2 = np.zeros((len(Ls),len(ts),2),dtype=np.float64)\n",
    "    for i,L in enumerate(Ls):\n",
    "        #start = time.time()\n",
    "        #\n",
    "        #system = np.array([1.0 if i<L//2 else 0.0 for i in range(L)])\n",
    "        system = np.zeros(L,dtype=np.float64)\n",
    "        for j in range(L//2):\n",
    "            system[j] = 1.0\n",
    "        #datas[i] = get_dat(L,system,J,ts,period)\n",
    "        datas[i], datas2[i], datas2err1[i], datas2err2[i] = get_dat_2(L,system,J,ts,Nsmp,rnd,period)\n",
    "        #end = time.time()\n",
    "        #print(\"L,calctime:\",L,end-start)\n",
    "    return datas, datas2, datas2err1, datas2err2"
   ]
  },
  {
   "cell_type": "code",
   "execution_count": 9,
   "id": "ef486d94",
   "metadata": {},
   "outputs": [
    {
     "name": "stdout",
     "output_type": "stream",
     "text": [
      "L,calctime: 16 8.26772403717041\n"
     ]
    }
   ],
   "source": [
    "## CDW 010101... initial\n",
    "\n",
    "period = 2\n",
    "J = 1.0\n",
    "Ls = [16]\n",
    "Ls = np.array(Ls)\n",
    "ts = np.linspace(0,2*Ls[0],2+1)\n",
    "\n",
    "seed = 12345\n",
    "#Nsmp = 2**(Ls[0]//3)\n",
    "Nsmp = 2**(Ls[0]//4+4)\n",
    "#Nsmp = 2**8\n",
    "#Nsmp = 2**10\n",
    "#Nsmp = 2**14\n",
    "#Nsmp = 2**16\n",
    "#Nsmp = 2**18\n",
    "\n",
    "rng = np.random.default_rng(seed)\n",
    "rnd = np.zeros((Nsmp,Ls[0]),dtype=np.float64)\n",
    "for step in range(Nsmp):\n",
    "    rnd[step] = np.pi * rng.uniform(-1,1,Ls[0])\n",
    "\n",
    "start = time.time()\n",
    "datas, datas2, datas2err1, datas2err2 = calc_renyi(period,J,ts,Ls,rnd,Nsmp)\n",
    "end = time.time()\n",
    "print(\"L,calctime:\",Ls[0],end-start)"
   ]
  },
  {
   "cell_type": "code",
   "execution_count": 10,
   "id": "ec34ed34",
   "metadata": {},
   "outputs": [
    {
     "data": {
      "image/png": "[encoded data removed]",
      "text/plain": [
       "<Figure size 432x288 with 1 Axes>"
      ]
     },
     "metadata": {
      "needs_background": "light"
     },
     "output_type": "display_data"
    }
   ],
   "source": [
    "cmap = plt.get_cmap(\"tab20\")\n",
    "plt.grid()\n",
    "for i,L in enumerate(Ls):\n",
    "    #plt.xlim(0,2*Ls[i])\n",
    "    plt.xlim(0,2)\n",
    "    plt.ylim(0,0.4)\n",
    "    plt.errorbar(datas2[i,:,0]/Ls[i],(datas2err1[i,:,1]+datas2err2[i,:,1])/2/Ls[i],yerr=(datas2err1[i,:,1]-datas2err2[i,:,1])/2/Ls[i],capsize=4,fmt=\"o\",mfc=\"none\",color=cmap(0))\n",
    "    plt.plot(datas2[i,:,0]/Ls[i],(datas2err1[i,:,1]+datas2err2[i,:,1])/2/Ls[i],color=cmap(0))\n",
    "    #plt.fill_between(datas2[i,:,0]/Ls[i],datas2err1[i,:,1]/Ls[i],datas2err2[i,:,1]/Ls[i],fc=cmap(2*i+1),ec=cmap(2*i+0))\n",
    "    #plt.fill_between(datas2[i,:,0],datas2err1[i,:,1],datas2err2[i,:,1],fc=cmap(2*i+1),ec=cmap(2*i+0))\n",
    "    #plt.plot(datas[i,:,0],datas[i,:,1],color=\"black\")\n",
    "plt.show()"
   ]
  },
  {
   "cell_type": "code",
   "execution_count": 11,
   "id": "f093a22b",
   "metadata": {},
   "outputs": [
    {
     "name": "stdout",
     "output_type": "stream",
     "text": [
      "L,calctime: 64 10.53344988822937\n"
     ]
    }
   ],
   "source": [
    "## CDW 010101... initial\n",
    "\n",
    "period = 2\n",
    "J = 1.0\n",
    "Ls = [64]\n",
    "Ls = np.array(Ls)\n",
    "ts = np.linspace(0,2*Ls[0],2+1)\n",
    "\n",
    "seed = 12345\n",
    "#Nsmp = 2**(Ls[0]//3)\n",
    "Nsmp = 2**(Ls[0]//4+4)\n",
    "#Nsmp = 2**10\n",
    "#Nsmp = 2**14\n",
    "#Nsmp = 2**16\n",
    "#Nsmp = 2**18\n",
    "\n",
    "rng = np.random.default_rng(seed)\n",
    "rnd = np.zeros((Nsmp,Ls[0]),dtype=np.float64)\n",
    "for step in range(Nsmp):\n",
    "    rnd[step] = np.pi * rng.uniform(-1,1,Ls[0])\n",
    "\n",
    "start = time.time()\n",
    "datas, datas2, datas2err1, datas2err2 = calc_renyi(period,J,ts,Ls,rnd,Nsmp)\n",
    "end = time.time()\n",
    "print(\"L,calctime:\",Ls[0],end-start)"
   ]
  },
  {
   "cell_type": "code",
   "execution_count": 12,
   "id": "997f85a4",
   "metadata": {},
   "outputs": [
    {
     "data": {
      "image/png": "[encoded data removed]",
      "text/plain": [
       "<Figure size 432x288 with 1 Axes>"
      ]
     },
     "metadata": {
      "needs_background": "light"
     },
     "output_type": "display_data"
    }
   ],
   "source": [
    "cmap = plt.get_cmap(\"tab20\")\n",
    "plt.grid()\n",
    "for i,L in enumerate(Ls):\n",
    "    #plt.xlim(0,2*Ls[i])\n",
    "    plt.xlim(0,2)\n",
    "    plt.ylim(0,0.4)\n",
    "    plt.errorbar(datas2[i,:,0]/Ls[i],(datas2err1[i,:,1]+datas2err2[i,:,1])/2/Ls[i],yerr=(datas2err1[i,:,1]-datas2err2[i,:,1])/2/Ls[i],capsize=4,fmt=\"o\",mfc=\"none\",color=cmap(0))\n",
    "    plt.plot(datas2[i,:,0]/Ls[i],(datas2err1[i,:,1]+datas2err2[i,:,1])/2/Ls[i],color=cmap(0))\n",
    "    #plt.fill_between(datas2[i,:,0]/Ls[i],datas2err1[i,:,1]/Ls[i],datas2err2[i,:,1]/Ls[i],fc=cmap(2*i+1),ec=cmap(2*i+0))\n",
    "    #plt.fill_between(datas2[i,:,0],datas2err1[i,:,1],datas2err2[i,:,1],fc=cmap(2*i+1),ec=cmap(2*i+0))\n",
    "    #plt.plot(datas[i,:,0],datas[i,:,1],color=\"black\")\n",
    "plt.show()"
   ]
  },
  {
   "cell_type": "code",
   "execution_count": 13,
   "id": "c79c592f",
   "metadata": {},
   "outputs": [
    {
     "name": "stdout",
     "output_type": "stream",
     "text": [
      "L,calctime: 72 49.24063801765442\n"
     ]
    }
   ],
   "source": [
    "## CDW 010101... initial\n",
    "\n",
    "period = 2\n",
    "J = 1.0\n",
    "Ls = [72]\n",
    "Ls = np.array(Ls)\n",
    "ts = np.linspace(0,2*Ls[0],2+1)\n",
    "\n",
    "seed = 12345\n",
    "#Nsmp = 2**(Ls[0]//3)\n",
    "Nsmp = 2**(Ls[0]//4+4)\n",
    "#Nsmp = 2**10\n",
    "#Nsmp = 2**14\n",
    "#Nsmp = 2**16\n",
    "#Nsmp = 2**18\n",
    "\n",
    "rng = np.random.default_rng(seed)\n",
    "rnd = np.zeros((Nsmp,Ls[0]),dtype=np.float64)\n",
    "for step in range(Nsmp):\n",
    "    rnd[step] = np.pi * rng.uniform(-1,1,Ls[0])\n",
    "\n",
    "start = time.time()\n",
    "datas, datas2, datas2err1, datas2err2 = calc_renyi(period,J,ts,Ls,rnd,Nsmp)\n",
    "end = time.time()\n",
    "print(\"L,calctime:\",Ls[0],end-start)"
   ]
  },
  {
   "cell_type": "code",
   "execution_count": 14,
   "id": "1e34f820-84f2-4471-aed0-6f88f9874c5b",
   "metadata": {},
   "outputs": [
    {
     "data": {
      "image/png": "[encoded data removed]",
      "text/plain": [
       "<Figure size 432x288 with 1 Axes>"
      ]
     },
     "metadata": {
      "needs_background": "light"
     },
     "output_type": "display_data"
    }
   ],
   "source": [
    "cmap = plt.get_cmap(\"tab20\")\n",
    "plt.grid()\n",
    "for i,L in enumerate(Ls):\n",
    "    #plt.xlim(0,2*Ls[i])\n",
    "    plt.xlim(0,2)\n",
    "    plt.ylim(0,0.4)\n",
    "    plt.errorbar(datas2[i,:,0]/Ls[i],(datas2err1[i,:,1]+datas2err2[i,:,1])/2/Ls[i],yerr=(datas2err1[i,:,1]-datas2err2[i,:,1])/2/Ls[i],capsize=4,fmt=\"o\",mfc=\"none\",color=cmap(0))\n",
    "    plt.plot(datas2[i,:,0]/Ls[i],(datas2err1[i,:,1]+datas2err2[i,:,1])/2/Ls[i],color=cmap(0))\n",
    "    #plt.fill_between(datas2[i,:,0]/Ls[i],datas2err1[i,:,1]/Ls[i],datas2err2[i,:,1]/Ls[i],fc=cmap(2*i+1),ec=cmap(2*i+0))\n",
    "    #plt.fill_between(datas2[i,:,0],datas2err1[i,:,1],datas2err2[i,:,1],fc=cmap(2*i+1),ec=cmap(2*i+0))\n",
    "    #plt.plot(datas[i,:,0],datas[i,:,1],color=\"black\")\n",
    "plt.show()"
   ]
  },
  {
   "cell_type": "code",
   "execution_count": null,
   "id": "47130605-c045-438e-8d83-83256340ba91",
   "metadata": {},
   "outputs": [],
   "source": []
  }
 ],
 "metadata": {
  "kernelspec": {
   "display_name": "Python 3 (ipykernel)",
   "language": "python",
   "name": "python3"
  },
  "language_info": {
   "codemirror_mode": {
    "name": "ipython",
    "version": 3
   },
   "file_extension": ".py",
   "mimetype": "text/x-python",
   "name": "python",
   "nbconvert_exporter": "python",
   "pygments_lexer": "ipython3",
   "version": "3.8.12"
  }
 },
 "nbformat": 4,
 "nbformat_minor": 5
}
