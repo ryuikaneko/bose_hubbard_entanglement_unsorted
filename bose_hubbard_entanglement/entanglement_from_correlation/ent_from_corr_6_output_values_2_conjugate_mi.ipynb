{
 "cells": [
  {
   "cell_type": "code",
   "execution_count": 1,
   "id": "56c47b20-d603-41d8-ac1d-62090669bc66",
   "metadata": {},
   "outputs": [],
   "source": [
    "# https://arxiv.org/abs/cond-mat/0703314\n",
    "# https://arxiv.org/abs/0808.3779"
   ]
  },
  {
   "cell_type": "code",
   "execution_count": 2,
   "id": "ec02df2b-af87-4c5e-9285-61e7e33d8b63",
   "metadata": {},
   "outputs": [],
   "source": [
    "import numpy as np\n",
    "import matplotlib.pyplot as plt\n",
    "from numba import jit"
   ]
  },
  {
   "cell_type": "code",
   "execution_count": 3,
   "id": "3489b80e-a902-4b66-a9c0-220a1af5778c",
   "metadata": {},
   "outputs": [],
   "source": [
    "@jit(nopython=True)\n",
    "def calc_rsks(L):\n",
    "    rs = np.arange(1,L+1) ## from 1 to L\n",
    "    ks = np.linspace(np.pi/(L+1.0),L*np.pi/(L+1.0),L)\n",
    "    return rs,ks\n",
    "\n",
    "@jit(nopython=True)\n",
    "def calc_eks(J,ks):\n",
    "    return -2.0*J*np.cos(ks)\n",
    "\n",
    "@jit(nopython=True)\n",
    "def calc_xkrs(L,ks,rs):\n",
    "    return np.sqrt(2.0/(L+1.0))*np.sin(np.outer(ks,rs))\n",
    "\n",
    "# #@jit(nopython=True)\n",
    "# def calc_ys(t,eks,xkrs):\n",
    "#     expeks = np.exp(1j*t*eks)\n",
    "#     return np.einsum(\"ik,k,kj->ij\",xkrs,expeks,xkrs)\n",
    "\n",
    "@jit(nopython=True)\n",
    "def calc_ys(t,eks,xkrs):\n",
    "    xc = (1.0+0.0j)*xkrs # for numba\n",
    "    expeks = np.diag(np.exp(1j*t*eks))\n",
    "    return xc @ expeks @ xc\n",
    "\n",
    "@jit(nopython=True)\n",
    "def calc_fs(ys,initial_state):\n",
    "    diag = (1.0+0.0j)*np.diag(initial_state)\n",
    "    return ys @ diag @ ys.T.conjugate()\n",
    "\n",
    "@jit(nopython=True)\n",
    "def calc_fs_2(ys,initial_state):\n",
    "    diag = (1.0+0.0j)*np.diag(initial_state)\n",
    "    return ys.conjugate() @ diag @ ys.T\n",
    "\n",
    "@jit(nopython=True)\n",
    "def get_dat(L,L_A,J,ts,period=1):\n",
    "    rs, ks = calc_rsks(L)\n",
    "    eks = calc_eks(J,ks)\n",
    "    xkrs = calc_xkrs(L,ks,rs)\n",
    "    initial_state = np.array([1.0 if i%period==0 else 0.0 for i in range(L)])\n",
    "    ee1s = np.zeros(len(ts),dtype=np.float64)\n",
    "    ee2s = np.zeros(len(ts),dtype=np.float64)\n",
    "    for i,t in enumerate(ts):\n",
    "        ys = calc_ys(t,eks,xkrs)\n",
    "        fs = calc_fs(ys,initial_state)\n",
    "        eig = np.linalg.eigvalsh(fs[0:L_A,0:L_A])\n",
    "        peig = 1.0 + eig\n",
    "        eig[eig<1e-16] = np.finfo(eig.dtype).eps\n",
    "        peig[peig<1e-16] = np.finfo(peig.dtype).eps\n",
    "        ee1s[i] = - np.sum(eig*np.log(eig)) + np.sum(peig*np.log(peig))\n",
    "        ee2s[i] = np.sum(np.log(peig**2-eig**2))\n",
    "    return ee1s, ee2s\n",
    "\n",
    "@jit(nopython=True)\n",
    "def get_dat_2(L,L_A,J,ts,period=1):\n",
    "    rs, ks = calc_rsks(L)\n",
    "    eks = calc_eks(J,ks)\n",
    "    xkrs = calc_xkrs(L,ks,rs)\n",
    "    initial_state = np.array([1.0 if i%period==0 else 0.0 for i in range(L)])\n",
    "    ee1s = np.zeros(len(ts),dtype=np.float64)\n",
    "    ee2s = np.zeros(len(ts),dtype=np.float64)\n",
    "    for i,t in enumerate(ts):\n",
    "        ys = calc_ys(t,eks,xkrs)\n",
    "        fs = calc_fs_2(ys,initial_state)\n",
    "        eig = np.linalg.eigvalsh(fs[0:L_A,0:L_A])\n",
    "        peig = 1.0 + eig\n",
    "        eig[eig<1e-16] = np.finfo(eig.dtype).eps\n",
    "        peig[peig<1e-16] = np.finfo(peig.dtype).eps\n",
    "        ee1s[i] = - np.sum(eig*np.log(eig)) + np.sum(peig*np.log(peig))\n",
    "        ee2s[i] = np.sum(np.log(peig**2-eig**2))\n",
    "    return ee1s, ee2s"
   ]
  },
  {
   "cell_type": "code",
   "execution_count": 4,
   "id": "042172ab-4dfd-4779-b0bc-5f148b1a616e",
   "metadata": {},
   "outputs": [],
   "source": [
    "# ## Mott insulator initial\n",
    "\n",
    "# period = 1\n",
    "# J = 1.0\n",
    "# ts = np.linspace(0,1024,1025)\n",
    "# Ls = np.arange(64,256+1,64)\n",
    "\n",
    "# ee1s = np.zeros((len(Ls),len(ts)),dtype=np.float64)\n",
    "# ee2s = np.zeros((len(Ls),len(ts)),dtype=np.float64)\n",
    "# for i,L in enumerate(Ls):\n",
    "#     L_A = L//2\n",
    "#     ee1s[i], ee2s[i] = get_dat(L,L_A,J,ts,period=period)\n",
    "\n",
    "# cmap = plt.get_cmap(\"tab20\")\n",
    "# #plt.xlim(0,2)\n",
    "# plt.ylim(0,0.6)\n",
    "# plt.grid()\n",
    "# for i,L in enumerate(Ls):\n",
    "#     L_A = L//2\n",
    "#     plt.plot(ts/L,ee2s[i]/L,color=cmap(2*i+0))\n",
    "#     plt.plot([np.min(ts)/L,np.max(ts)/L],[np.log(3.0)*L_A/L,np.log(3.0)*L_A/L],ls=\"--\",color=cmap(2*i+1))\n",
    "# plt.show()"
   ]
  },
  {
   "cell_type": "code",
   "execution_count": 5,
   "id": "d31026c8-5d0e-4898-b48e-cbe275838382",
   "metadata": {},
   "outputs": [],
   "source": [
    "# ## CDW 010101... initial\n",
    "\n",
    "# period = 2\n",
    "# J = 1.0\n",
    "# ts = np.linspace(0,1024,1025)\n",
    "# Ls = np.arange(64,256+1,64)\n",
    "\n",
    "# ee1s = np.zeros((len(Ls),len(ts)),dtype=np.float64)\n",
    "# ee2s = np.zeros((len(Ls),len(ts)),dtype=np.float64)\n",
    "# for i,L in enumerate(Ls):\n",
    "#     L_A = L//2\n",
    "#     ee1s[i], ee2s[i] = get_dat(L,L_A,J,ts,period=period)\n",
    "\n",
    "# cmap = plt.get_cmap(\"tab20\")\n",
    "# #plt.xlim(0,2)\n",
    "# plt.ylim(0,0.4)\n",
    "# plt.grid()\n",
    "# for i,L in enumerate(Ls):\n",
    "#     L_A = L//2\n",
    "#     plt.plot(ts/L,ee2s[i]/L,color=cmap(2*i+0))\n",
    "# plt.show()"
   ]
  },
  {
   "cell_type": "code",
   "execution_count": 6,
   "id": "e1905fad-7496-4e3a-b56b-dcdb1efe2575",
   "metadata": {},
   "outputs": [
    {
     "data": {
      "image/png": "[encoded data removed]",
      "text/plain": [
       "<Figure size 432x288 with 1 Axes>"
      ]
     },
     "metadata": {
      "needs_background": "light"
     },
     "output_type": "display_data"
    },
    {
     "name": "stdout",
     "output_type": "stream",
     "text": [
      "8 0.5493061443340546 0.5493061443340551\n",
      "10 0.5493061443340547 0.5493061443340552\n",
      "12 0.5493061443340547 0.5493061443340553\n",
      "14 0.5493061443340546 0.5493061443340552\n",
      "16 0.5493061443340546 0.5493061443340552\n",
      "0.5493061443340549\n"
     ]
    }
   ],
   "source": [
    "## Mott insulator initial\n",
    "\n",
    "period = 1\n",
    "J = 1.0\n",
    "#L = 8\n",
    "ts = np.linspace(0,80,801)\n",
    "#Ls = [L]\n",
    "Ls = [8,10,12,14,16]\n",
    "\n",
    "ee1s = np.zeros((len(Ls),len(ts)),dtype=np.float64)\n",
    "ee2s = np.zeros((len(Ls),len(ts)),dtype=np.float64)\n",
    "for i,L in enumerate(Ls):\n",
    "    L_A = L//2\n",
    "    ee1s[i], ee2s[i] = get_dat(L,L_A,J,ts,period=period)\n",
    "\n",
    "cmap = plt.get_cmap(\"tab20\")\n",
    "#plt.xlim(0,2)\n",
    "#plt.ylim(0,0.4)\n",
    "plt.xlim(0,80)\n",
    "#plt.ylim(0,6)\n",
    "plt.ylim(0,10)\n",
    "plt.grid()\n",
    "for i,L in enumerate(Ls):\n",
    "    L_A = L//2\n",
    "    plt.plot(ts,ee2s[i],color=cmap(2*i+0))\n",
    "#    plt.plot(ts/L,ee2s[i]/L,color=cmap(2*i+0))\n",
    "plt.show()\n",
    "\n",
    "for i,L in enumerate(Ls):\n",
    "#    print(L,np.min(ee2s[i]),np.max(ee2s[i]))\n",
    "    print(L,np.min(ee2s[i]/L),np.max(ee2s[i]/L))\n",
    "print(0.5*np.log(3.0))\n",
    "\n",
    "#for i,L in enumerate(Ls):\n",
    "#    np.savetxt(\"dat_ent_from_corr_6_L\"+\"{}\".format(L),np.array([ts,ee2s[i]]).T)"
   ]
  },
  {
   "cell_type": "code",
   "execution_count": 7,
   "id": "0f83454a-57e6-4fed-a94e-7ddf8fed63d3",
   "metadata": {},
   "outputs": [
    {
     "data": {
      "image/png": "[encoded data removed]",
      "text/plain": [
       "<Figure size 432x288 with 1 Axes>"
      ]
     },
     "metadata": {
      "needs_background": "light"
     },
     "output_type": "display_data"
    },
    {
     "name": "stdout",
     "output_type": "stream",
     "text": [
      "8 0.5493061443340546 0.5493061443340551\n",
      "10 0.5493061443340547 0.5493061443340552\n",
      "12 0.5493061443340547 0.5493061443340553\n",
      "14 0.5493061443340546 0.5493061443340552\n",
      "16 0.5493061443340546 0.5493061443340552\n",
      "0.5493061443340549\n"
     ]
    }
   ],
   "source": [
    "## Mott insulator initial\n",
    "\n",
    "period = 1\n",
    "J = 1.0\n",
    "#L = 8\n",
    "ts = np.linspace(0,80,801)\n",
    "#Ls = [L]\n",
    "Ls = [8,10,12,14,16]\n",
    "\n",
    "ee1s = np.zeros((len(Ls),len(ts)),dtype=np.float64)\n",
    "ee2s = np.zeros((len(Ls),len(ts)),dtype=np.float64)\n",
    "for i,L in enumerate(Ls):\n",
    "    L_A = L//2\n",
    "    ee1s[i], ee2s[i] = get_dat_2(L,L_A,J,ts,period=period)\n",
    "\n",
    "cmap = plt.get_cmap(\"tab20\")\n",
    "#plt.xlim(0,2)\n",
    "#plt.ylim(0,0.4)\n",
    "plt.xlim(0,80)\n",
    "#plt.ylim(0,6)\n",
    "plt.ylim(0,10)\n",
    "plt.grid()\n",
    "for i,L in enumerate(Ls):\n",
    "    L_A = L//2\n",
    "    plt.plot(ts,ee2s[i],color=cmap(2*i+0))\n",
    "#    plt.plot(ts/L,ee2s[i]/L,color=cmap(2*i+0))\n",
    "plt.show()\n",
    "\n",
    "for i,L in enumerate(Ls):\n",
    "#    print(L,np.min(ee2s[i]),np.max(ee2s[i]))\n",
    "    print(L,np.min(ee2s[i]/L),np.max(ee2s[i]/L))\n",
    "print(0.5*np.log(3.0))\n",
    "\n",
    "#for i,L in enumerate(Ls):\n",
    "#    np.savetxt(\"dat_ent_from_corr_6_L\"+\"{}\".format(L),np.array([ts,ee2s[i]]).T)"
   ]
  },
  {
   "cell_type": "code",
   "execution_count": 8,
   "id": "4ae4ee92-57ae-4c09-bd62-867a6050d63d",
   "metadata": {},
   "outputs": [
    {
     "data": {
      "image/png": "[encoded data removed]",
      "text/plain": [
       "<Figure size 432x288 with 1 Axes>"
      ]
     },
     "metadata": {
      "needs_background": "light"
     },
     "output_type": "display_data"
    },
    {
     "name": "stdout",
     "output_type": "stream",
     "text": [
      "256 0.5493061443340543 0.549306144334055\n",
      "0.5493061443340549\n"
     ]
    }
   ],
   "source": [
    "## Mott insulator initial\n",
    "\n",
    "period = 1\n",
    "J = 1.0\n",
    "#L = 8\n",
    "L = 256\n",
    "#ts = np.linspace(0,80,801)\n",
    "ts = np.linspace(0,2*L,2*L+1)\n",
    "Ls = [L]\n",
    "#Ls = [8,10,12,14,16]\n",
    "\n",
    "ee1s = np.zeros((len(Ls),len(ts)),dtype=np.float64)\n",
    "ee2s = np.zeros((len(Ls),len(ts)),dtype=np.float64)\n",
    "for i,L in enumerate(Ls):\n",
    "    L_A = L//2\n",
    "    ee1s[i], ee2s[i] = get_dat(L,L_A,J,ts,period=period)\n",
    "\n",
    "cmap = plt.get_cmap(\"tab20\")\n",
    "plt.xlim(0,2)\n",
    "#plt.ylim(0,0.35)\n",
    "plt.ylim(0,0.60)\n",
    "#plt.ylim(0,0.4)\n",
    "#plt.xlim(0,80)\n",
    "#plt.ylim(0,6)\n",
    "#plt.xlim(0,2*L)\n",
    "plt.grid()\n",
    "for i,L in enumerate(Ls):\n",
    "    L_A = L//2\n",
    "#    plt.plot(ts,ee2s[i],color=cmap(2*i+0))\n",
    "    plt.plot(ts/L,ee2s[i]/L,color=cmap(2*i+0))\n",
    "plt.show()\n",
    "\n",
    "for i,L in enumerate(Ls):\n",
    "#    print(L,np.min(ee2s[i]),np.max(ee2s[i]))\n",
    "    print(L,np.min(ee2s[i]/L),np.max(ee2s[i]/L))\n",
    "print(0.5*np.log(3.0))\n",
    "\n",
    "#for i,L in enumerate(Ls):\n",
    "##    np.savetxt(\"dat_ent_from_corr_6_L\"+\"{}\".format(L),np.array([ts,ee2s[i]]).T)\n",
    "#    np.savetxt(\"dat_ent_from_corr_6_L\"+\"{}\".format(L),np.array([ts/L,ee2s[i]/L]).T)"
   ]
  },
  {
   "cell_type": "code",
   "execution_count": 9,
   "id": "d0c122d9-ce83-46f1-9061-ad7da7b8088f",
   "metadata": {},
   "outputs": [
    {
     "data": {
      "image/png": "[encoded data removed]",
      "text/plain": [
       "<Figure size 432x288 with 1 Axes>"
      ]
     },
     "metadata": {
      "needs_background": "light"
     },
     "output_type": "display_data"
    },
    {
     "name": "stdout",
     "output_type": "stream",
     "text": [
      "256 0.5493061443340543 0.549306144334055\n",
      "0.5493061443340549\n"
     ]
    }
   ],
   "source": [
    "## Mott insulator initial\n",
    "\n",
    "period = 1\n",
    "J = 1.0\n",
    "#L = 8\n",
    "L = 256\n",
    "#ts = np.linspace(0,80,801)\n",
    "ts = np.linspace(0,2*L,2*L+1)\n",
    "Ls = [L]\n",
    "#Ls = [8,10,12,14,16]\n",
    "\n",
    "ee1s = np.zeros((len(Ls),len(ts)),dtype=np.float64)\n",
    "ee2s = np.zeros((len(Ls),len(ts)),dtype=np.float64)\n",
    "for i,L in enumerate(Ls):\n",
    "    L_A = L//2\n",
    "    ee1s[i], ee2s[i] = get_dat_2(L,L_A,J,ts,period=period)\n",
    "\n",
    "cmap = plt.get_cmap(\"tab20\")\n",
    "plt.xlim(0,2)\n",
    "#plt.ylim(0,0.35)\n",
    "plt.ylim(0,0.60)\n",
    "#plt.ylim(0,0.4)\n",
    "#plt.xlim(0,80)\n",
    "#plt.ylim(0,6)\n",
    "#plt.xlim(0,2*L)\n",
    "plt.grid()\n",
    "for i,L in enumerate(Ls):\n",
    "    L_A = L//2\n",
    "#    plt.plot(ts,ee2s[i],color=cmap(2*i+0))\n",
    "    plt.plot(ts/L,ee2s[i]/L,color=cmap(2*i+0))\n",
    "plt.show()\n",
    "\n",
    "for i,L in enumerate(Ls):\n",
    "#    print(L,np.min(ee2s[i]),np.max(ee2s[i]))\n",
    "    print(L,np.min(ee2s[i]/L),np.max(ee2s[i]/L))\n",
    "print(0.5*np.log(3.0))\n",
    "\n",
    "#for i,L in enumerate(Ls):\n",
    "##    np.savetxt(\"dat_ent_from_corr_6_L\"+\"{}\".format(L),np.array([ts,ee2s[i]]).T)\n",
    "#    np.savetxt(\"dat_ent_from_corr_6_L\"+\"{}\".format(L),np.array([ts/L,ee2s[i]/L]).T)"
   ]
  },
  {
   "cell_type": "code",
   "execution_count": null,
   "id": "1cf1dbdf-2452-4f5c-8216-3b4fa3390edb",
   "metadata": {},
   "outputs": [],
   "source": []
  }
 ],
 "metadata": {
  "kernelspec": {
   "display_name": "Python 3 (ipykernel)",
   "language": "python",
   "name": "python3"
  },
  "language_info": {
   "codemirror_mode": {
    "name": "ipython",
    "version": 3
   },
   "file_extension": ".py",
   "mimetype": "text/x-python",
   "name": "python",
   "nbconvert_exporter": "python",
   "pygments_lexer": "ipython3",
   "version": "3.8.12"
  }
 },
 "nbformat": 4,
 "nbformat_minor": 5
}
