{
 "cells": [
  {
   "cell_type": "code",
   "execution_count": 1,
   "id": "56c47b20-d603-41d8-ac1d-62090669bc66",
   "metadata": {},
   "outputs": [],
   "source": [
    "# https://arxiv.org/abs/cond-mat/0703314\n",
    "# https://arxiv.org/abs/0808.3779\n",
    "\n",
    "# https://github.com/scipy/scipy/issues/7151\n",
    "# https://apps.dtic.mil/sti/pdfs/AD1004183.pdf\n",
    "# https://www.codeproject.com/Articles/21282/Compute-Permanent-of-a-Matrix-with-Ryser-s-Algorit\n",
    "\n",
    "# https://rosettacode.org/wiki/Determinant_and_permanent\n",
    "# https://codegolf.stackexchange.com/questions/97060/calculate-the-permanent-as-quickly-as-possible\n",
    "\n",
    "# https://stackoverflow.com/questions/38738835/generating-gray-codes\n",
    "# https://qiita.com/b1ueskydragon/items/75cfee42541ea723080c\n",
    "\n",
    "# https://qiita.com/phdax/items/3064de264c7933bab2f5\n",
    "# https://web.archive.org/web/20190108235115/https://www.hackersdelight.org/hdcodetxt/pop.c.txt\n",
    "# http://graphics.stanford.edu/~seander/bithacks.html#CountBitsSetParallel\n",
    "# https://stackoverflow.com/questions/9829578/fast-way-of-counting-non-zero-bits-in-positive-integer\n",
    "\n",
    "# https://stackoverflow.com/questions/22227595/convert-integer-to-binary-array-with-suitable-padding"
   ]
  },
  {
   "cell_type": "code",
   "execution_count": 2,
   "id": "ec02df2b-af87-4c5e-9285-61e7e33d8b63",
   "metadata": {},
   "outputs": [],
   "source": [
    "import numpy as np\n",
    "import matplotlib.pyplot as plt\n",
    "from numba import jit\n",
    "import time"
   ]
  },
  {
   "cell_type": "code",
   "execution_count": 3,
   "id": "b8ae518f-ac9f-4997-8e7d-61c3b0098566",
   "metadata": {},
   "outputs": [],
   "source": [
    "# https://github.com/XanaduAI/thewalrus/blob/master/thewalrus/_permanent.py\n",
    "\n",
    "@jit(nopython=True)\n",
    "def perm_bbfg(M):  # pragma: no cover\n",
    "    \"\"\"\n",
    "    Returns the permanent of a matrix using the bbfg formula in Gray ordering\n",
    "    The code is a re-implementation from a Python 2 code found in\n",
    "    `Permanent code golf\n",
    "    <https://codegolf.stackexchange.com/questions/97060/calculate-the-permanent-as-quickly-as-possible>`_\n",
    "    using Numba.\n",
    "    Args:\n",
    "        M (array) : a square array.\n",
    "    Returns:\n",
    "        float or complex: the permanent of a matrix ``M``\n",
    "    \"\"\"\n",
    "\n",
    "    n = len(M)\n",
    "    if n == 0:\n",
    "        return M.dtype.type(1.0)\n",
    "    row_comb = np.sum(M, 0)\n",
    "    total = 0\n",
    "    old_gray = 0\n",
    "    sign = +1\n",
    "    binary_power_dict = np.array([2**i for i in range(n)])\n",
    "    num_loops = 2 ** (n - 1)\n",
    "    for bin_index in range(1, num_loops + 1):\n",
    "        reduced = np.prod(row_comb)\n",
    "        total += sign * reduced\n",
    "        new_gray = bin_index ^ (bin_index // 2)\n",
    "        gray_diff = old_gray ^ new_gray\n",
    "        gray_diff_index = np.searchsorted(binary_power_dict,gray_diff)\n",
    "        new_vector = M[gray_diff_index]\n",
    "        direction = 2 * ((old_gray > new_gray) - (old_gray < new_gray))\n",
    "        for i in range(n):\n",
    "            row_comb[i] += new_vector[i] * direction\n",
    "        sign = -sign\n",
    "        old_gray = new_gray\n",
    "    return total / num_loops"
   ]
  },
  {
   "cell_type": "code",
   "execution_count": 4,
   "id": "3489b80e-a902-4b66-a9c0-220a1af5778c",
   "metadata": {},
   "outputs": [],
   "source": [
    "@jit(nopython=True)\n",
    "def calc_rsks(L):\n",
    "    rs = np.arange(1,L+1) ## from 1 to L\n",
    "    ks = np.linspace(np.pi/(L+1.0),L*np.pi/(L+1.0),L)\n",
    "    return rs,ks\n",
    "\n",
    "@jit(nopython=True)\n",
    "def calc_eks(J,ks):\n",
    "    return -2.0*J*np.cos(ks)\n",
    "\n",
    "@jit(nopython=True)\n",
    "def calc_xkrs(L,ks,rs):\n",
    "    return np.sqrt(2.0/(L+1.0))*np.sin(np.outer(ks,rs))\n",
    "\n",
    "@jit(nopython=True)\n",
    "def calc_ys(t,eks,xkrs):\n",
    "    xc = (1.0+0.0j)*xkrs # for numba\n",
    "    expeks = np.diag(np.exp(1j*t*eks))\n",
    "    return xc @ expeks @ xc\n",
    "\n",
    "# @jit(nopython=True)\n",
    "# def calc_fs(ys,system):\n",
    "#     diag = (1.0+0.0j)*np.diag(system)\n",
    "#     return ys @ diag @ ys.T.conjugate()\n",
    "\n",
    "@jit(nopython=True)\n",
    "def calc_fs_cdw(ys,system,period=1):\n",
    "    diag = (1.0+0.0j)*np.diag(system)\n",
    "    ycuts = np.copy(ys[::period,:]) ## avoid NumbaPerformanceWarning to make contiguous arrays by deep copy\n",
    "#    ycuts = ys[::period,:]\n",
    "    return ycuts @ diag @ ycuts.T.conjugate()\n",
    "\n",
    "@jit(nopython=True)\n",
    "def calc_z(L,system,t,eks,xkrs,period=1):\n",
    "    ys = calc_ys(t,eks,xkrs)\n",
    "#    fs = calc_fs(ys,system)\n",
    "    fs = calc_fs_cdw(ys,system,period=period)\n",
    "    dlt = np.eye(fs.shape[0],dtype=np.complex128)\n",
    "    return np.vstack( (np.hstack((fs,dlt-fs)), np.hstack((dlt-fs,fs))) )\n",
    "\n",
    "@jit(nopython=True)\n",
    "def get_dat(L,system,J,ts,period=1):\n",
    "    rs, ks = calc_rsks(L)\n",
    "    eks = calc_eks(J,ks)\n",
    "    xkrs = calc_xkrs(L,ks,rs)\n",
    "    data = np.zeros((len(ts),2),dtype=np.float64)\n",
    "    for i,t in enumerate(ts):\n",
    "        matz = calc_z(L,system,t,eks,xkrs,period=period)\n",
    "        data[i] = np.array([t,-np.log(perm_bbfg(matz).real)])\n",
    "    return data"
   ]
  },
  {
   "cell_type": "code",
   "execution_count": 5,
   "id": "2885d545-edb6-4318-ae99-c2f7be2d72a7",
   "metadata": {},
   "outputs": [
    {
     "data": {
      "image/png": "[encoded data removed]",
      "text/plain": [
       "<Figure size 432x288 with 1 Axes>"
      ]
     },
     "metadata": {
      "needs_background": "light"
     },
     "output_type": "display_data"
    }
   ],
   "source": [
    "## Mott insulator initial\n",
    "## matrix size: 2L*2L\n",
    "## entropy density: s = 1 - \\sum_i || \\bm{r}_i ||_{\\infty} / (2L)\n",
    "## len(matz[0,:]) = 2L\n",
    "\n",
    "period = 1\n",
    "J = 1.0\n",
    "ts = np.linspace(0,512,257)\n",
    "Ls = [256]\n",
    "\n",
    "hinfs = np.zeros((len(Ls),len(ts)),dtype=np.float64)\n",
    "for i,L in enumerate(Ls):\n",
    "    rs, ks = calc_rsks(L)\n",
    "    eks = calc_eks(J,ks)\n",
    "    xkrs = calc_xkrs(L,ks,rs)\n",
    "    system = np.array([1.0 if i<L//2 else 0.0 for i in range(L)])\n",
    "    for j,t in enumerate(ts):\n",
    "        matz = calc_z(L,system,t,eks,xkrs,period=period)\n",
    "        hinfs[i,j] = np.average([np.linalg.norm(matz[:,k],ord=np.inf) for k in range(len(matz[0,:]))])\n",
    "\n",
    "#plt.xlim(0,2)\n",
    "plt.xlim(0,1)\n",
    "plt.grid()\n",
    "for i,L in enumerate(Ls):\n",
    "    plt.ylim(0,np.max(1.0-hinfs[i])*1.1)\n",
    "#    plt.plot(ts/L,1.0-hinfs[i])\n",
    "    plt.plot(ts/(2.0*L),1.0-hinfs[i])"
   ]
  },
  {
   "cell_type": "code",
   "execution_count": 6,
   "id": "75ac6c9d-ebb1-4cbf-b913-1f1696787a1c",
   "metadata": {},
   "outputs": [],
   "source": [
    "np.savetxt(\"dat_16_check_matrix_element_large_size_mi_L\"+\"{}\".format(Ls[0]),np.array([ts/L,1.0-hinfs[0]]).T)"
   ]
  },
  {
   "cell_type": "code",
   "execution_count": 7,
   "id": "46dbed54-d292-4224-8280-686be045098b",
   "metadata": {},
   "outputs": [
    {
     "data": {
      "image/png": "[encoded data removed]",
      "text/plain": [
       "<Figure size 432x288 with 1 Axes>"
      ]
     },
     "metadata": {
      "needs_background": "light"
     },
     "output_type": "display_data"
    }
   ],
   "source": [
    "## CDW 010101... initial\n",
    "## matrix size: L*L\n",
    "## entropy density: s = 1 - \\sum_i || \\bm{r}_i ||_{\\infty} / L\n",
    "## len(matz[0,:]) = L\n",
    "\n",
    "period = 2\n",
    "J = 1.0\n",
    "ts = np.linspace(0,512,257)\n",
    "Ls = [256]\n",
    "\n",
    "hinfs = np.zeros((len(Ls),len(ts)),dtype=np.float64)\n",
    "for i,L in enumerate(Ls):\n",
    "    rs, ks = calc_rsks(L)\n",
    "    eks = calc_eks(J,ks)\n",
    "    xkrs = calc_xkrs(L,ks,rs)\n",
    "    system = np.array([1.0 if i<L//2 else 0.0 for i in range(L)])\n",
    "    for j,t in enumerate(ts):\n",
    "        matz = calc_z(L,system,t,eks,xkrs,period=period)\n",
    "        hinfs[i,j] = np.average([np.linalg.norm(matz[:,k],ord=np.inf) for k in range(len(matz[0,:]))])\n",
    "\n",
    "plt.xlim(0,2)\n",
    "plt.grid()\n",
    "for i,L in enumerate(Ls):\n",
    "    plt.ylim(0,np.max(1.0-hinfs[i])*1.1)\n",
    "    plt.plot(ts/L,1.0-hinfs[i])"
   ]
  },
  {
   "cell_type": "code",
   "execution_count": 8,
   "id": "897bf4a3-eac0-4fc8-8ad1-21a3bc84cc2f",
   "metadata": {},
   "outputs": [],
   "source": [
    "np.savetxt(\"dat_16_check_matrix_element_large_size_cdw_L\"+\"{}\".format(Ls[0]),np.array([ts/L,1.0-hinfs[0]]).T)"
   ]
  },
  {
   "cell_type": "code",
   "execution_count": null,
   "id": "3100420d-6fc6-4962-952a-af332bd14d93",
   "metadata": {},
   "outputs": [],
   "source": []
  }
 ],
 "metadata": {
  "kernelspec": {
   "display_name": "Python 3 (ipykernel)",
   "language": "python",
   "name": "python3"
  },
  "language_info": {
   "codemirror_mode": {
    "name": "ipython",
    "version": 3
   },
   "file_extension": ".py",
   "mimetype": "text/x-python",
   "name": "python",
   "nbconvert_exporter": "python",
   "pygments_lexer": "ipython3",
   "version": "3.8.12"
  }
 },
 "nbformat": 4,
 "nbformat_minor": 5
}
