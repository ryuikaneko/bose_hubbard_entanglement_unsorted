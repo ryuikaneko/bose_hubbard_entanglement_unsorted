{
 "cells": [
  {
   "cell_type": "code",
   "execution_count": 1,
   "id": "56c47b20-d603-41d8-ac1d-62090669bc66",
   "metadata": {},
   "outputs": [],
   "source": [
    "# https://arxiv.org/abs/cond-mat/0703314\n",
    "# https://arxiv.org/abs/0808.3779\n",
    "\n",
    "# https://github.com/scipy/scipy/issues/7151\n",
    "# https://apps.dtic.mil/sti/pdfs/AD1004183.pdf\n",
    "# https://www.codeproject.com/Articles/21282/Compute-Permanent-of-a-Matrix-with-Ryser-s-Algorit\n",
    "\n",
    "# https://rosettacode.org/wiki/Determinant_and_permanent\n",
    "# https://codegolf.stackexchange.com/questions/97060/calculate-the-permanent-as-quickly-as-possible\n",
    "\n",
    "# https://stackoverflow.com/questions/38738835/generating-gray-codes\n",
    "# https://qiita.com/b1ueskydragon/items/75cfee42541ea723080c\n",
    "\n",
    "# https://qiita.com/phdax/items/3064de264c7933bab2f5\n",
    "# https://web.archive.org/web/20190108235115/https://www.hackersdelight.org/hdcodetxt/pop.c.txt\n",
    "# http://graphics.stanford.edu/~seander/bithacks.html#CountBitsSetParallel\n",
    "# https://stackoverflow.com/questions/9829578/fast-way-of-counting-non-zero-bits-in-positive-integer\n",
    "\n",
    "# https://stackoverflow.com/questions/22227595/convert-integer-to-binary-array-with-suitable-padding"
   ]
  },
  {
   "cell_type": "code",
   "execution_count": 2,
   "id": "ec02df2b-af87-4c5e-9285-61e7e33d8b63",
   "metadata": {},
   "outputs": [],
   "source": [
    "import numpy as np\n",
    "import matplotlib.pyplot as plt\n",
    "from numba import jit\n",
    "import time"
   ]
  },
  {
   "cell_type": "code",
   "execution_count": 3,
   "id": "b8ae518f-ac9f-4997-8e7d-61c3b0098566",
   "metadata": {},
   "outputs": [],
   "source": [
    "# https://github.com/XanaduAI/thewalrus/blob/master/thewalrus/_permanent.py\n",
    "\n",
    "@jit(nopython=True)\n",
    "def perm_bbfg(M):  # pragma: no cover\n",
    "    \"\"\"\n",
    "    Returns the permanent of a matrix using the bbfg formula in Gray ordering\n",
    "    The code is a re-implementation from a Python 2 code found in\n",
    "    `Permanent code golf\n",
    "    <https://codegolf.stackexchange.com/questions/97060/calculate-the-permanent-as-quickly-as-possible>`_\n",
    "    using Numba.\n",
    "    Args:\n",
    "        M (array) : a square array.\n",
    "    Returns:\n",
    "        float or complex: the permanent of a matrix ``M``\n",
    "    \"\"\"\n",
    "\n",
    "    n = len(M)\n",
    "    if n == 0:\n",
    "        return M.dtype.type(1.0)\n",
    "    row_comb = np.sum(M, 0)\n",
    "    total = 0\n",
    "    old_gray = 0\n",
    "    sign = +1\n",
    "    binary_power_dict = np.array([2**i for i in range(n)])\n",
    "    num_loops = 2 ** (n - 1)\n",
    "    for bin_index in range(1, num_loops + 1):\n",
    "        reduced = np.prod(row_comb)\n",
    "        total += sign * reduced\n",
    "        new_gray = bin_index ^ (bin_index // 2)\n",
    "        gray_diff = old_gray ^ new_gray\n",
    "        gray_diff_index = np.searchsorted(binary_power_dict,gray_diff)\n",
    "        new_vector = M[gray_diff_index]\n",
    "        direction = 2 * ((old_gray > new_gray) - (old_gray < new_gray))\n",
    "        for i in range(n):\n",
    "            row_comb[i] += new_vector[i] * direction\n",
    "        sign = -sign\n",
    "        old_gray = new_gray\n",
    "    return total / num_loops"
   ]
  },
  {
   "cell_type": "code",
   "execution_count": 4,
   "id": "3489b80e-a902-4b66-a9c0-220a1af5778c",
   "metadata": {},
   "outputs": [],
   "source": [
    "@jit(nopython=True)\n",
    "def calc_rsks(L):\n",
    "    rs = np.arange(1,L+1) ## from 1 to L\n",
    "    ks = np.linspace(np.pi/(L+1.0),L*np.pi/(L+1.0),L)\n",
    "    return rs,ks\n",
    "\n",
    "@jit(nopython=True)\n",
    "def calc_eks(J,ks):\n",
    "    return -2.0*J*np.cos(ks)\n",
    "\n",
    "@jit(nopython=True)\n",
    "def calc_xkrs(L,ks,rs):\n",
    "    return np.sqrt(2.0/(L+1.0))*np.sin(np.outer(ks,rs))\n",
    "\n",
    "@jit(nopython=True)\n",
    "def calc_ys(t,eks,xkrs):\n",
    "    xc = (1.0+0.0j)*xkrs # for numba\n",
    "    expeks = np.diag(np.exp(1j*t*eks))\n",
    "    return xc @ expeks @ xc\n",
    "\n",
    "# @jit(nopython=True)\n",
    "# def calc_fs(ys,system):\n",
    "#     diag = (1.0+0.0j)*np.diag(system)\n",
    "#     return ys @ diag @ ys.T.conjugate()\n",
    "\n",
    "@jit(nopython=True)\n",
    "def calc_fs_cdw(ys,system,period=1):\n",
    "    diag = (1.0+0.0j)*np.diag(system)\n",
    "    ycuts = np.copy(ys[::period,:]) ## avoid NumbaPerformanceWarning to make contiguous arrays by deep copy\n",
    "#    ycuts = ys[::period,:]\n",
    "    return ycuts @ diag @ ycuts.T.conjugate()\n",
    "\n",
    "@jit(nopython=True)\n",
    "def calc_z(L,system,t,eks,xkrs,period=1):\n",
    "    ys = calc_ys(t,eks,xkrs)\n",
    "#    fs = calc_fs(ys,system)\n",
    "    fs = calc_fs_cdw(ys,system,period)\n",
    "    dlt = np.eye(fs.shape[0],dtype=np.complex128)\n",
    "    return np.vstack( (np.hstack((fs,dlt-fs)), np.hstack((dlt-fs,fs))) )\n",
    "\n",
    "@jit(nopython=True)\n",
    "def get_dat(L,system,J,ts,period=1):\n",
    "    rs, ks = calc_rsks(L)\n",
    "    eks = calc_eks(J,ks)\n",
    "    xkrs = calc_xkrs(L,ks,rs)\n",
    "    data = np.zeros((len(ts),2),dtype=np.float64)\n",
    "    for i,t in enumerate(ts):\n",
    "        matz = calc_z(L,system,t,eks,xkrs,period)\n",
    "        data[i] = np.array([t,-np.log(perm_bbfg(matz).real)])\n",
    "    return data"
   ]
  },
  {
   "cell_type": "code",
   "execution_count": 5,
   "id": "a76b1fc3-b9b9-4154-9726-8afa451b1893",
   "metadata": {},
   "outputs": [
    {
     "name": "stdout",
     "output_type": "stream",
     "text": [
      "0.13700412515039523\n",
      "[1.         1.98774424]\n"
     ]
    }
   ],
   "source": [
    "period = 1\n",
    "J = 1.0\n",
    "#Ls = [4,6,8,10]\n",
    "L = 10\n",
    "#ts = np.linspace(0,20,201)\n",
    "ts = np.linspace(0,10*L,int(L/0.1)+1)\n",
    "\n",
    "rs, ks = calc_rsks(L)\n",
    "eks = calc_eks(J,ks)\n",
    "xkrs = calc_xkrs(L,ks,rs)\n",
    "system = np.array([1.0 if i<L//2 else 0.0 for i in range(L)])\n",
    "\n",
    "#t = 0.0*L\n",
    "t = 0.1*L\n",
    "#t = 2.0*L\n",
    "matz = calc_z(L,system,t,eks,xkrs,period)\n",
    "#print(matz)\n",
    "\n",
    "#matz = np.eye(2*L)\n",
    "\n",
    "perm = perm_bbfg(matz).real\n",
    "print(perm)\n",
    "ee2 = np.array([t,-np.log(perm)])\n",
    "print(ee2)"
   ]
  },
  {
   "cell_type": "code",
   "execution_count": 6,
   "id": "570699cc-0e9b-4916-a930-7ddde5876b95",
   "metadata": {},
   "outputs": [],
   "source": [
    "#print(matz)"
   ]
  },
  {
   "cell_type": "code",
   "execution_count": 7,
   "id": "91858a44-6add-4c4f-9c3d-ccecccbae330",
   "metadata": {},
   "outputs": [
    {
     "name": "stdout",
     "output_type": "stream",
     "text": [
      "[1. 1. 1. 1. 1. 1. 1. 1. 1. 1. 1. 1. 1. 1. 1. 1. 1. 1. 1. 1.]\n"
     ]
    }
   ],
   "source": [
    "u, s, v = np.linalg.svd(matz)\n",
    "#print(u)\n",
    "print(s)\n",
    "#print(v)"
   ]
  },
  {
   "cell_type": "code",
   "execution_count": 8,
   "id": "bc3fe208-c5a9-4de0-bfc1-c3edabe5e67c",
   "metadata": {},
   "outputs": [
    {
     "name": "stdout",
     "output_type": "stream",
     "text": [
      "[1. 1. 1. 1.]\n"
     ]
    }
   ],
   "source": [
    "u, s, v = np.linalg.svd(matz[:,0:4])\n",
    "#print(u)\n",
    "print(s)\n",
    "#print(v)"
   ]
  },
  {
   "cell_type": "code",
   "execution_count": null,
   "id": "12b452d9-7f9c-4485-9609-33509a5c1dd4",
   "metadata": {},
   "outputs": [],
   "source": []
  }
 ],
 "metadata": {
  "kernelspec": {
   "display_name": "Python 3 (ipykernel)",
   "language": "python",
   "name": "python3"
  },
  "language_info": {
   "codemirror_mode": {
    "name": "ipython",
    "version": 3
   },
   "file_extension": ".py",
   "mimetype": "text/x-python",
   "name": "python",
   "nbconvert_exporter": "python",
   "pygments_lexer": "ipython3",
   "version": "3.9.7"
  }
 },
 "nbformat": 4,
 "nbformat_minor": 5
}
