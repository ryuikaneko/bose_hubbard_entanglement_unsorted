{
 "cells": [
  {
   "cell_type": "code",
   "execution_count": 1,
   "id": "22074299-08d7-499b-a66d-e4e271ee6dfa",
   "metadata": {},
   "outputs": [],
   "source": [
    "# https://stackoverflow.com/questions/62131831/how-to-measure-time-in-numba-jit-function"
   ]
  },
  {
   "cell_type": "code",
   "execution_count": 2,
   "id": "ad1a6dfc-2c99-4f61-8ac7-94e1fffcf2fe",
   "metadata": {},
   "outputs": [],
   "source": [
    "from numba import jit, objmode\n",
    "import time"
   ]
  },
  {
   "cell_type": "code",
   "execution_count": 3,
   "id": "79cae103-303f-4935-80db-319dd2eb64fd",
   "metadata": {},
   "outputs": [],
   "source": [
    "@jit(nopython=True)\n",
    "def harmonic_load_flow_func_time_inside():\n",
    "    with objmode(time1='f8'):\n",
    "        time1 = time.perf_counter()\n",
    "    calc = 0\n",
    "    for x in range(1000000):\n",
    "        calc += x\n",
    "    with objmode():\n",
    "        print('time: {}'.format(time.perf_counter() - time1))\n",
    "\n",
    "@jit(nopython=True)\n",
    "def harmonic_load_flow_func():\n",
    "    calc = 0\n",
    "    for x in range(1000000):\n",
    "        calc += x\n",
    "\n",
    "def main_time_inside():\n",
    "    for _ in range(10):\n",
    "        harmonic_load_flow_func_time_inside()\n",
    "\n",
    "def main_time_outside():   \n",
    "    for _ in range(10):\n",
    "        time1 = time.perf_counter()\n",
    "        harmonic_load_flow_func()\n",
    "        print('time: {}'.format(time.perf_counter() - time1))"
   ]
  },
  {
   "cell_type": "code",
   "execution_count": 4,
   "id": "e2a819df-0b45-4f4c-89e6-13b6a71fa9b2",
   "metadata": {},
   "outputs": [
    {
     "name": "stdout",
     "output_type": "stream",
     "text": [
      "measuring time inside the function\n",
      "time: 0.0005449229999996419\n",
      "time: 3.0290000001542694e-06\n",
      "time: 1.708000000100185e-06\n",
      "time: 1.5109999997875434e-06\n",
      "time: 1.4779999997216464e-06\n",
      "time: 1.584999999693082e-06\n",
      "time: 1.4410000002129664e-06\n",
      "time: 1.4740000002788634e-06\n",
      "time: 1.4880000005490501e-06\n",
      "time: 1.424000000582737e-06\n",
      "measuring time from outside\n",
      "time: 0.030745415000000165\n",
      "time: 1.1699999999947863e-06\n",
      "time: 3.8500000076879815e-07\n",
      "time: 3.660000000849095e-07\n",
      "time: 3.2300000007978724e-07\n",
      "time: 2.630000004444355e-07\n",
      "time: 1.720000000204891e-06\n",
      "time: 4.599999998688986e-07\n",
      "time: 3.140000002233023e-07\n",
      "time: 3.309999998535318e-07\n"
     ]
    }
   ],
   "source": [
    "if __name__ == '__main__':\n",
    "    print(\"measuring time inside the function\")\n",
    "    main_time_inside()\n",
    "    print(\"measuring time from outside\")\n",
    "    main_time_outside()"
   ]
  },
  {
   "cell_type": "code",
   "execution_count": null,
   "id": "381be27f-7e5f-4bec-8bd9-997be76a6a79",
   "metadata": {},
   "outputs": [],
   "source": []
  }
 ],
 "metadata": {
  "kernelspec": {
   "display_name": "Python 3 (ipykernel)",
   "language": "python",
   "name": "python3"
  },
  "language_info": {
   "codemirror_mode": {
    "name": "ipython",
    "version": 3
   },
   "file_extension": ".py",
   "mimetype": "text/x-python",
   "name": "python",
   "nbconvert_exporter": "python",
   "pygments_lexer": "ipython3",
   "version": "3.8.12"
  }
 },
 "nbformat": 4,
 "nbformat_minor": 5
}
