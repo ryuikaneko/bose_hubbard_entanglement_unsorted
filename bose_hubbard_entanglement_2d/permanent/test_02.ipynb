{
 "cells": [
  {
   "cell_type": "code",
   "execution_count": 1,
   "id": "3fe427bf-1a7f-4278-a865-40b652c63f04",
   "metadata": {},
   "outputs": [],
   "source": [
    "import numpy as np\n",
    "from numba import jit"
   ]
  },
  {
   "cell_type": "code",
   "execution_count": 2,
   "id": "fbe2630e-fecd-406e-86f2-845822825193",
   "metadata": {},
   "outputs": [],
   "source": [
    "@jit(nopython=True)\n",
    "def idx2site(Lx,Ly,idx):\n",
    "    return np.vstack((idx%Lx,idx//Lx))"
   ]
  },
  {
   "cell_type": "code",
   "execution_count": 3,
   "id": "27db6fda-6e96-4037-a3f0-aa922b6da1c8",
   "metadata": {},
   "outputs": [],
   "source": [
    "@jit(nopython=True)\n",
    "def site2idx(Lx,Ly,x,y):\n",
    "    return x+Lx*y"
   ]
  },
  {
   "cell_type": "code",
   "execution_count": 4,
   "id": "38e12cfa-dcb1-494d-844a-9763ff18b2b8",
   "metadata": {},
   "outputs": [],
   "source": [
    "@jit(nopython=True)\n",
    "def main_1():\n",
    "    Lx = 4\n",
    "    Ly = 3\n",
    "    site = np.array([1])\n",
    "    print(\"site --> idx\",site,idx2site(Lx,Ly,site))\n",
    "    idxs = np.arange(Lx*Ly)\n",
    "    print(\"inds\",idxs)\n",
    "    sites = idx2site(Lx,Ly,idxs)\n",
    "    print(\"sites\",sites)\n",
    "    print(\"xs\",sites[0])\n",
    "    print(\"ys\",sites[1])\n",
    "    idxs2 = site2idx(Lx,Ly,sites[0],sites[1])\n",
    "    print(\"idxs2\",idxs2)"
   ]
  },
  {
   "cell_type": "code",
   "execution_count": 5,
   "id": "9adc16d8-aa36-41e8-983f-68ea6028ee62",
   "metadata": {},
   "outputs": [
    {
     "name": "stdout",
     "output_type": "stream",
     "text": [
      "site --> idx [1] [[1]\n",
      " [0]]\n",
      "inds [ 0  1  2  3  4  5  6  7  8  9 10 11]\n",
      "sites [[0 1 2 3 0 1 2 3 0 1 2 3]\n",
      " [0 0 0 0 1 1 1 1 2 2 2 2]]\n",
      "xs [0 1 2 3 0 1 2 3 0 1 2 3]\n",
      "ys [0 0 0 0 1 1 1 1 2 2 2 2]\n",
      "idxs2 [ 0  1  2  3  4  5  6  7  8  9 10 11]\n"
     ]
    }
   ],
   "source": [
    "main_1()"
   ]
  },
  {
   "cell_type": "code",
   "execution_count": 6,
   "id": "6ff16606-3596-4f7b-b7cf-fe947b5b4c6f",
   "metadata": {},
   "outputs": [],
   "source": [
    "@jit(nopython=True)\n",
    "def makeHam(L,Lhbond,i1s,i2s,Js):\n",
    "    Ham = np.zeros((L,L),dtype=np.float64)\n",
    "    for i in range(Lhbond):\n",
    "        Ham[i1s[i],i2s[i]] = Js[i]\n",
    "        Ham[i2s[i],i1s[i]] = Js[i]\n",
    "    return Ham"
   ]
  },
  {
   "cell_type": "code",
   "execution_count": 7,
   "id": "6034099b-9ad2-4fe4-b32d-af278a68df56",
   "metadata": {},
   "outputs": [],
   "source": [
    "@jit(nopython=True)\n",
    "def main_2():\n",
    "    L = 10\n",
    "## periodic\n",
    "#    i1s = np.arange(L)\n",
    "#    i2s = (i1s + 1)%L\n",
    "## open\n",
    "    i1s = np.array([i for i in range(L-1)])\n",
    "    i2s = np.array([(i+1)%L for i in range(L-1)])\n",
    "    Js = - np.ones(L-1)\n",
    "    Lhbond = len(Js)\n",
    "    print(\"i1s\",i1s)\n",
    "    print(\"i2s\",i2s)\n",
    "    print(\"Js\",Js)\n",
    "    Ham = makeHam(L,Lhbond,i1s,i2s,Js)\n",
    "    print(Ham)\n",
    "    ene, vec = np.linalg.eigh(Ham)\n",
    "    for i in range(L):\n",
    "        vec[:,i] *= np.sign(vec[0,i])\n",
    "    print(vec[:,0])\n",
    "    print(vec[:,0].T@Ham@vec[:,0],ene[0])\n",
    "#\n",
    "    eps = np.array([-2.0 * np.cos((n+1) * np.pi / (L+1)) for n in range(L)])\n",
    "    x = np.zeros((L,L), dtype = np.float64)\n",
    "    for j in range(L):\n",
    "        for k in range(L):\n",
    "            x[j,k] = np.sin((j+1)*(k+1)*np.pi / (L+1))\n",
    "    x *= np.sqrt(2.0 / (L+1))\n",
    "    x = x.T\n",
    "    print(x[:,0])\n",
    "    print(x[:,0].T@Ham@x[:,0],eps[0])\n",
    "## vec=x or not\n",
    "    print(\"sum(|vec-x|)\",np.sum(np.abs(vec-x)))"
   ]
  },
  {
   "cell_type": "code",
   "execution_count": 8,
   "id": "5eb20c95-be41-48e1-8514-792247145186",
   "metadata": {},
   "outputs": [
    {
     "name": "stdout",
     "output_type": "stream",
     "text": [
      "i1s [0 1 2 3 4 5 6 7 8]\n",
      "i2s [1 2 3 4 5 6 7 8 9]\n",
      "Js [-1. -1. -1. -1. -1. -1. -1. -1. -1.]\n",
      "[[ 0. -1.  0.  0.  0.  0.  0.  0.  0.  0.]\n",
      " [-1.  0. -1.  0.  0.  0.  0.  0.  0.  0.]\n",
      " [ 0. -1.  0. -1.  0.  0.  0.  0.  0.  0.]\n",
      " [ 0.  0. -1.  0. -1.  0.  0.  0.  0.  0.]\n",
      " [ 0.  0.  0. -1.  0. -1.  0.  0.  0.  0.]\n",
      " [ 0.  0.  0.  0. -1.  0. -1.  0.  0.  0.]\n",
      " [ 0.  0.  0.  0.  0. -1.  0. -1.  0.  0.]\n",
      " [ 0.  0.  0.  0.  0.  0. -1.  0. -1.  0.]\n",
      " [ 0.  0.  0.  0.  0.  0.  0. -1.  0. -1.]\n",
      " [ 0.  0.  0.  0.  0.  0.  0.  0. -1.  0.]]\n",
      "[0.12013117 0.23053002 0.3222527  0.38786839 0.42206128 0.42206128\n",
      " 0.38786839 0.3222527  0.23053002 0.12013117]\n",
      "-1.9189859472289952 -1.9189859472289947\n",
      "[0.12013117 0.23053002 0.3222527  0.38786839 0.42206128 0.42206128\n",
      " 0.38786839 0.3222527  0.23053002 0.12013117]\n",
      "-1.918985947228995 -1.9189859472289947\n",
      "sum(|vec-x|) 2.67841304690819e-14\n"
     ]
    }
   ],
   "source": [
    "main_2()"
   ]
  },
  {
   "cell_type": "code",
   "execution_count": 9,
   "id": "ed4f72e9-1862-4b55-8e3e-47e3781d7714",
   "metadata": {},
   "outputs": [],
   "source": [
    "@jit(nopython=True)\n",
    "def main_3():\n",
    "    Lx = 4\n",
    "    Ly = 3\n",
    "## open\n",
    "    i1s = []\n",
    "    i2s = []\n",
    "    Js = []\n",
    "    for y in range(Ly):\n",
    "        for x in range(Lx):\n",
    "            i0 = site2idx(Lx,Ly,x,y)\n",
    "            if x+1<Lx:\n",
    "                ix = site2idx(Lx,Ly,x+1,y)\n",
    "                i1s.append(i0)\n",
    "                i2s.append(ix)\n",
    "                Js.append(-1.0)\n",
    "            if y+1<Ly:\n",
    "                iy = site2idx(Lx,Ly,x,y+1)\n",
    "                i1s.append(i0)\n",
    "                i2s.append(iy)\n",
    "                Js.append(-1.0)\n",
    "    Lhbond = len(Js)\n",
    "    print(\"i1s\",i1s)\n",
    "    print(\"i2s\",i2s)\n",
    "    print(\"Js\",Js)\n",
    "    print(\"Lhbond\",Lhbond,2*Lx*Ly-Lx-Ly)\n",
    "#\n",
    "    L = Lx*Ly\n",
    "    Ham = makeHam(L,Lhbond,i1s,i2s,Js)\n",
    "    print(Ham)\n",
    "    ene, vec = np.linalg.eigh(Ham)\n",
    "    for i in range(L):\n",
    "        vec[:,i] *= np.sign(vec[0,i])\n",
    "    print(vec[:,0])\n",
    "    print(vec[:,0].T@Ham@vec[:,0],ene[0])\n",
    "    print(vec[:,1])\n",
    "    print(vec[:,1].T@Ham@vec[:,1],ene[1])\n",
    "#\n",
    "    eps = np.array([-2.0 * (np.cos((i+1)*np.pi/(Lx+1)) + np.cos((j+1)*np.pi/(Ly+1))) for i in range(Lx) for j in range(Ly)])\n",
    "    print(eps)"
   ]
  },
  {
   "cell_type": "code",
   "execution_count": 10,
   "id": "35a5c233-618a-4f0a-9f94-8862adace4fe",
   "metadata": {},
   "outputs": [
    {
     "name": "stdout",
     "output_type": "stream",
     "text": [
      "i1s [0, 0, 1, 1, 2, 2, 3, 4, 4, 5, 5, 6, 6, 7, 8, 9, 10]\n",
      "i2s [1, 4, 2, 5, 3, 6, 7, 5, 8, 6, 9, 7, 10, 11, 9, 10, 11]\n",
      "Js [-1.0, -1.0, -1.0, -1.0, -1.0, -1.0, -1.0, -1.0, -1.0, -1.0, -1.0, -1.0, -1.0, -1.0, -1.0, -1.0, -1.0]\n",
      "Lhbond 17 17\n",
      "[[ 0. -1.  0.  0. -1.  0.  0.  0.  0.  0.  0.  0.]\n",
      " [-1.  0. -1.  0.  0. -1.  0.  0.  0.  0.  0.  0.]\n",
      " [ 0. -1.  0. -1.  0.  0. -1.  0.  0.  0.  0.  0.]\n",
      " [ 0.  0. -1.  0.  0.  0.  0. -1.  0.  0.  0.  0.]\n",
      " [-1.  0.  0.  0.  0. -1.  0.  0. -1.  0.  0.  0.]\n",
      " [ 0. -1.  0.  0. -1.  0. -1.  0.  0. -1.  0.  0.]\n",
      " [ 0.  0. -1.  0.  0. -1.  0. -1.  0.  0. -1.  0.]\n",
      " [ 0.  0.  0. -1.  0.  0. -1.  0.  0.  0.  0. -1.]\n",
      " [ 0.  0.  0.  0. -1.  0.  0.  0.  0. -1.  0.  0.]\n",
      " [ 0.  0.  0.  0.  0. -1.  0.  0. -1.  0. -1.  0.]\n",
      " [ 0.  0.  0.  0.  0.  0. -1.  0.  0. -1.  0. -1.]\n",
      " [ 0.  0.  0.  0.  0.  0.  0. -1.  0.  0. -1.  0.]]\n",
      "[0.18587402 0.30075048 0.30075048 0.18587402 0.26286556 0.4253254\n",
      " 0.4253254  0.26286556 0.18587402 0.30075048 0.30075048 0.18587402]\n",
      "-3.0322475511229876 -3.03224755112299\n",
      "[ 0.30075048  0.18587402 -0.18587402 -0.30075048  0.4253254   0.26286556\n",
      " -0.26286556 -0.4253254   0.30075048  0.18587402 -0.18587402 -0.30075048]\n",
      "-2.03224755112299 -2.03224755112299\n",
      "[-3.03224755 -1.61803399 -0.20382043 -2.03224755 -0.61803399  0.79617957\n",
      " -0.79617957  0.61803399  2.03224755  0.20382043  1.61803399  3.03224755]\n"
     ]
    }
   ],
   "source": [
    "main_3()"
   ]
  },
  {
   "cell_type": "code",
   "execution_count": null,
   "id": "bec1e820-0643-4d3a-b058-d9fb6eea6cb9",
   "metadata": {},
   "outputs": [],
   "source": []
  }
 ],
 "metadata": {
  "kernelspec": {
   "display_name": "Python 3 (ipykernel)",
   "language": "python",
   "name": "python3"
  },
  "language_info": {
   "codemirror_mode": {
    "name": "ipython",
    "version": 3
   },
   "file_extension": ".py",
   "mimetype": "text/x-python",
   "name": "python",
   "nbconvert_exporter": "python",
   "pygments_lexer": "ipython3",
   "version": "3.8.12"
  }
 },
 "nbformat": 4,
 "nbformat_minor": 5
}
